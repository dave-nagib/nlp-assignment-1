{
 "cells": [
  {
   "cell_type": "markdown",
   "metadata": {},
   "source": [
    "# Used Libraries"
   ]
  },
  {
   "cell_type": "code",
   "execution_count": 1,
   "metadata": {
    "execution": {
     "iopub.execute_input": "2024-11-01T18:17:28.236373Z",
     "iopub.status.busy": "2024-11-01T18:17:28.235692Z",
     "iopub.status.idle": "2024-11-01T18:17:32.359448Z",
     "shell.execute_reply": "2024-11-01T18:17:32.358606Z",
     "shell.execute_reply.started": "2024-11-01T18:17:28.236320Z"
    },
    "trusted": true
   },
   "outputs": [],
   "source": [
    "import pandas as pd\n",
    "\n",
    "import numpy as np\n",
    "\n",
    "from datasets import load_dataset\n",
    "\n",
    "import matplotlib.pyplot as plt\n",
    "\n",
    "import re\n",
    "\n",
    "from sklearn.pipeline import Pipeline\n",
    "\n",
    "from sklearn.feature_extraction.text import CountVectorizer\n",
    "\n",
    "from sklearn.naive_bayes import MultinomialNB\n",
    "\n",
    "from sklearn.metrics import accuracy_score\n",
    "\n",
    "from sklearn.model_selection import train_test_split\n",
    "\n",
    "from sklearn.linear_model import SGDClassifier, LogisticRegression\n",
    "\n",
    "from sklearn.feature_extraction.text import CountVectorizer\n",
    "\n",
    "from sklearn.naive_bayes import MultinomialNB\n",
    "\n",
    "from sklearn.metrics import accuracy_score, confusion_matrix, precision_score, recall_score, f1_score\n",
    "\n",
    "from sklearn.pipeline import Pipeline"
   ]
  },
  {
   "cell_type": "markdown",
   "metadata": {},
   "source": [
    "# Importing and Preparing the Dataset"
   ]
  },
  {
   "cell_type": "markdown",
   "metadata": {},
   "source": [
    "## Loading and Combining the Different Splits of the Dataset"
   ]
  },
  {
   "cell_type": "code",
   "execution_count": 2,
   "metadata": {
    "execution": {
     "iopub.execute_input": "2024-11-01T18:17:32.362048Z",
     "iopub.status.busy": "2024-11-01T18:17:32.361391Z",
     "iopub.status.idle": "2024-11-01T18:17:37.065294Z",
     "shell.execute_reply": "2024-11-01T18:17:37.064446Z",
     "shell.execute_reply.started": "2024-11-01T18:17:32.361999Z"
    },
    "trusted": true
   },
   "outputs": [],
   "source": [
    "# Load the SST dataset's training split\n",
    "\n",
    "train_data = load_dataset('sst', split='train', trust_remote_code=True)\n",
    "\n",
    "train_data = pd.DataFrame(train_data)\n",
    "\n",
    "\n",
    "\n",
    "# Load the SST dataset's validation split\n",
    "\n",
    "val_data = load_dataset('sst', split='validation', trust_remote_code=True)\n",
    "\n",
    "val_data = pd.DataFrame(val_data)\n",
    "\n",
    "\n",
    "\n",
    "# Load the SST dataset's test split\n",
    "\n",
    "test_data = load_dataset('sst', split='test', trust_remote_code=True)\n",
    "\n",
    "test_data = pd.DataFrame(test_data)\n",
    "\n",
    "\n",
    "\n",
    "# concatenate the training and validation data and the test data\n",
    "\n",
    "data = pd.concat([train_data, val_data, test_data])\n",
    "\n",
    "\n",
    "\n",
    "# deleting splits to save memory\n",
    "\n",
    "del train_data, val_data, test_data\n"
   ]
  },
  {
   "cell_type": "markdown",
   "metadata": {},
   "source": [
    "## Mapping the Scores and Cleaning the Dataset"
   ]
  },
  {
   "cell_type": "code",
   "execution_count": 3,
   "metadata": {
    "execution": {
     "iopub.execute_input": "2024-11-01T18:17:37.067003Z",
     "iopub.status.busy": "2024-11-01T18:17:37.066620Z",
     "iopub.status.idle": "2024-11-01T18:17:37.268756Z",
     "shell.execute_reply": "2024-11-01T18:17:37.267811Z",
     "shell.execute_reply.started": "2024-11-01T18:17:37.066959Z"
    },
    "trusted": true
   },
   "outputs": [
    {
     "name": "stdout",
     "output_type": "stream",
     "text": [
      "Data samples after cleaning:\n",
      "                                            sentence  label  \\\n",
      "0  the rock is destined to be the st century s ne...      3   \n",
      "1  the gorgeously elaborate continuation of the l...      4   \n",
      "2  singercomposer bryan adams contributes a slew ...      3   \n",
      "3  you d think by now america would have had enou...      2   \n",
      "4               yet the act is still charming here .      3   \n",
      "\n",
      "                                              tokens  \\\n",
      "0  The|Rock|is|destined|to|be|the|21st|Century|'s...   \n",
      "1  The|gorgeously|elaborate|continuation|of|``|Th...   \n",
      "2  Singer\\/composer|Bryan|Adams|contributes|a|sle...   \n",
      "3  You|'d|think|by|now|America|would|have|had|eno...   \n",
      "4               Yet|the|act|is|still|charming|here|.   \n",
      "\n",
      "                                                tree  \n",
      "0  70|70|68|67|63|62|61|60|58|58|57|56|56|64|65|5...  \n",
      "1  71|70|69|69|67|67|66|64|63|62|62|61|61|58|57|5...  \n",
      "2  72|71|71|70|68|68|67|67|66|63|62|62|60|60|58|5...  \n",
      "3  36|35|34|33|33|32|30|29|27|26|25|24|23|23|22|2...  \n",
      "4          15|13|13|10|9|9|11|12|10|11|12|14|14|15|0  \n"
     ]
    }
   ],
   "source": [
    "def score_to_class(score):\n",
    "\n",
    "    if score <= 0.2:\n",
    "\n",
    "        return 0\n",
    "\n",
    "    elif score <= 0.4:\n",
    "\n",
    "        return 1\n",
    "\n",
    "    elif score <= 0.6:\n",
    "\n",
    "        return 2\n",
    "\n",
    "    elif score <= 0.8:\n",
    "\n",
    "        return 3\n",
    "\n",
    "    else:\n",
    "\n",
    "        return 4\n",
    "\n",
    "\n",
    "\n",
    "def clean_text(text):\n",
    "\n",
    "    # Allow alphabetic characters, spaces, and specified punctuation symbols\n",
    "\n",
    "    text = re.sub(r'[^a-zA-Z\\s\\.\\!\\?\\:\\;]', '', text)\n",
    "\n",
    "    # Remove consecutive spaces\n",
    "\n",
    "    text = re.sub(r'\\s+', ' ', text).strip()\n",
    "\n",
    "    return text\n",
    "\n",
    "\n",
    "\n",
    "\n",
    "\n",
    "# Apply cleaning and score mapping on each dataset\n",
    "\n",
    "data['sentence'] = data['sentence'].apply(lambda x: clean_text(x.lower()))\n",
    "\n",
    "data['label'] = data['label'].apply(lambda x: score_to_class(x))\n",
    "\n",
    "\n",
    "\n",
    "# Display cleaned samples from each data\n",
    "\n",
    "print(\"Data samples after cleaning:\")\n",
    "\n",
    "print(data.head())\n"
   ]
  },
  {
   "cell_type": "markdown",
   "metadata": {},
   "source": [
    "## Distribution of Labels in the Dataset"
   ]
  },
  {
   "cell_type": "code",
   "execution_count": 4,
   "metadata": {
    "execution": {
     "iopub.execute_input": "2024-11-01T18:17:37.271103Z",
     "iopub.status.busy": "2024-11-01T18:17:37.270795Z",
     "iopub.status.idle": "2024-11-01T18:17:37.510617Z",
     "shell.execute_reply": "2024-11-01T18:17:37.509720Z",
     "shell.execute_reply.started": "2024-11-01T18:17:37.271070Z"
    },
    "trusted": true
   },
   "outputs": [
    {
     "data": {
      "image/png": "[encoded data removed]",
      "text/plain": [
       "<Figure size 800x600 with 1 Axes>"
      ]
     },
     "metadata": {},
     "output_type": "display_data"
    }
   ],
   "source": [
    "# Plotting the distribution of sentiment labels after mapping scores to classes\n",
    "\n",
    "data_label_counts = data['label'].value_counts().sort_index()\n",
    "\n",
    "plt.figure(figsize=(8, 6))\n",
    "\n",
    "plt.bar(data_label_counts.index, data_label_counts.values)\n",
    "\n",
    "plt.xlabel(\"Sentiment Label (0 = Very Negative, 4 = Very Positive)\")\n",
    "\n",
    "plt.ylabel(\"Frequency\")\n",
    "\n",
    "plt.title(\"Distribution of Sentiment Labels (Mapped to Classes)\")\n",
    "\n",
    "plt.show()\n"
   ]
  },
  {
   "cell_type": "markdown",
   "metadata": {},
   "source": [
    "## Dividing the Dataset Based on the Label's Distribution"
   ]
  },
  {
   "cell_type": "code",
   "execution_count": 5,
   "metadata": {
    "execution": {
     "iopub.execute_input": "2024-11-01T18:17:37.512176Z",
     "iopub.status.busy": "2024-11-01T18:17:37.511867Z",
     "iopub.status.idle": "2024-11-01T18:17:37.536968Z",
     "shell.execute_reply": "2024-11-01T18:17:37.536058Z",
     "shell.execute_reply.started": "2024-11-01T18:17:37.512143Z"
    },
    "trusted": true
   },
   "outputs": [
    {
     "name": "stdout",
     "output_type": "stream",
     "text": [
      "Training data samples:\n",
      "                                               sentence  label  \\\n",
      "2134  usually when i get this much syrup i like panc...      1   \n",
      "1053  mattei is tiresomely grave and longwinded as i...      0   \n",
      "6071  goodlooking but relentlessly lowbrow outing pl...      1   \n",
      "807   do nt be fooled by the impressive cast list ey...      0   \n",
      "2087        sushi for the connoisseurs of the macabre .      1   \n",
      "\n",
      "                                                 tokens  \\\n",
      "2134  Usually|when|I|get|this|much|syrup|,|I|like|pa...   \n",
      "1053  Mattei|is|tiresomely|grave|and|long-winded|,|a...   \n",
      "6071  Good-looking|but|relentlessly|lowbrow|outing|p...   \n",
      "807   Do|n't|be|fooled|by|the|impressive|cast|list|-...   \n",
      "2087        Sushi|for|the|connoisseurs|of|the|macabre|.   \n",
      "\n",
      "                                                   tree  \n",
      "2134  30|29|28|27|26|25|25|24|23|21|20|19|18|17|17|2...  \n",
      "1053  27|23|22|20|20|21|24|19|18|17|16|15|15|26|16|1...  \n",
      "6071  20|20|21|19|19|17|16|15|14|13|13|18|14|15|16|1...  \n",
      "807   29|29|28|27|26|25|24|23|23|31|21|21|20|19|18|1...  \n",
      "2087          13|12|11|11|10|9|9|15|10|14|12|13|14|15|0  \n",
      "\n",
      "Testing data samples:\n",
      "                                               sentence  label  \\\n",
      "502   the bodily function jokes are about what you d...      3   \n",
      "6999  deuces wild is an encyclopedia of cliches that...      1   \n",
      "8098  entertains not so much because of its music or...      1   \n",
      "4064               may prove to be tsai s masterpiece .      4   \n",
      "992   this is a terrific character study a probe int...      4   \n",
      "\n",
      "                                                 tokens  \\\n",
      "502   The|bodily|function|jokes|are|about|what|you|'...   \n",
      "6999  Deuces|Wild|is|an|encyclopedia|of|cliches|that...   \n",
      "8098  Entertains|not|so|much|because|of|its|music|or...   \n",
      "4064          may|prove|to|be|(|Tsai|'s|)|masterpiece|.   \n",
      "992   This|is|a|terrific|character|study|,|a|probe|i...   \n",
      "\n",
      "                                                   tree  \n",
      "502   40|39|38|38|37|36|35|34|33|33|42|43|32|31|29|2...  \n",
      "6999  52|52|50|48|48|47|46|45|42|42|41|39|39|38|37|3...  \n",
      "8098  54|54|53|53|52|50|47|47|48|46|46|44|44|43|41|4...  \n",
      "4064  18|17|16|15|13|11|11|12|14|19|12|13|14|15|16|1...  \n",
      "992   33|31|28|27|26|26|29|24|24|23|21|21|20|19|18|1...  \n",
      "\n",
      "Label distribution in training data:\n",
      "label\n",
      "1    0.264880\n",
      "3    0.262443\n",
      "2    0.189052\n",
      "4    0.156247\n",
      "0    0.127378\n",
      "Name: proportion, dtype: float64\n",
      "\n",
      "Label distribution in testing data:\n",
      "label\n",
      "1    0.264755\n",
      "3    0.262226\n",
      "2    0.189713\n",
      "4    0.155987\n",
      "0    0.127319\n",
      "Name: proportion, dtype: float64\n"
     ]
    }
   ],
   "source": [
    "#divide the data into training 90% and testing 10% so that both have the same distribution of sentiment labels\n",
    "\n",
    "train_data, test_data = train_test_split(data, test_size=0.1, stratify=data['label'], random_state=42)\n",
    "\n",
    "del data\n",
    "\n",
    "\n",
    "\n",
    "# Display a few samples from the train and test sets to verify the split\n",
    "\n",
    "print(\"Training data samples:\")\n",
    "\n",
    "print(train_data.head())\n",
    "\n",
    "print(\"\\nTesting data samples:\")\n",
    "\n",
    "print(test_data.head())\n",
    "\n",
    "\n",
    "\n",
    "# Display the distribution of labels in the training and test sets to verify the stratification\n",
    "\n",
    "print(\"\\nLabel distribution in training data:\")\n",
    "\n",
    "print(train_data['label'].value_counts(normalize=True))\n",
    "\n",
    "print(\"\\nLabel distribution in testing data:\")\n",
    "\n",
    "print(test_data['label'].value_counts(normalize=True))"
   ]
  },
  {
   "cell_type": "code",
   "execution_count": 6,
   "metadata": {
    "execution": {
     "iopub.execute_input": "2024-11-01T18:17:37.538346Z",
     "iopub.status.busy": "2024-11-01T18:17:37.538024Z",
     "iopub.status.idle": "2024-11-01T18:17:37.543214Z",
     "shell.execute_reply": "2024-11-01T18:17:37.542287Z",
     "shell.execute_reply.started": "2024-11-01T18:17:37.538312Z"
    },
    "trusted": true
   },
   "outputs": [],
   "source": [
    "# create x and y train\n",
    "\n",
    "x_train = train_data['sentence']\n",
    "\n",
    "y_train = train_data['label']\n",
    "\n",
    "\n",
    "\n",
    "# create x and y test\n",
    "\n",
    "x_test = test_data['sentence']\n",
    "\n",
    "y_test = test_data['label']"
   ]
  },
  {
   "cell_type": "markdown",
   "metadata": {},
   "source": [
    "# Part 1: Naïve Bayes"
   ]
  },
  {
   "cell_type": "markdown",
   "metadata": {},
   "source": [
    "## Naïve Bayes Custome Implementation"
   ]
  },
  {
   "cell_type": "code",
   "execution_count": 7,
   "metadata": {
    "execution": {
     "iopub.execute_input": "2024-11-01T18:17:37.544983Z",
     "iopub.status.busy": "2024-11-01T18:17:37.544630Z",
     "iopub.status.idle": "2024-11-01T18:17:37.559598Z",
     "shell.execute_reply": "2024-11-01T18:17:37.558709Z",
     "shell.execute_reply.started": "2024-11-01T18:17:37.544949Z"
    },
    "trusted": true
   },
   "outputs": [],
   "source": [
    "def train_naive_bayes(data: pd.DataFrame):\n",
    "\n",
    "    # Get the number of docs and classes of the data\n",
    "\n",
    "    n = len(data)\n",
    "\n",
    "    classes = data['label'].unique().tolist()\n",
    "\n",
    "\n",
    "\n",
    "    # Construct vocabulary, and count of each word and total word count in each class\n",
    "\n",
    "    vocab = set()\n",
    "\n",
    "    vocab_counts = {}\n",
    "\n",
    "    class_word_counts = {}\n",
    "\n",
    "    # Loop over each sentence-class pair\n",
    "\n",
    "    for sentence, c in zip(data['sentence'].tolist(), data['label'].tolist()):\n",
    "\n",
    "        for word in sentence.split():  # Loop over each word\n",
    "\n",
    "            vocab_counts[(word, c)] = vocab_counts.get((word, c), 0) + 1  # Increment count of word in that class\n",
    "\n",
    "            class_word_counts[c] = class_word_counts.get(c, 0) + 1  # Increment number of words in that class\n",
    "\n",
    "            vocab.add(word)  # Add word to the vocabulary set\n",
    "\n",
    "\n",
    "\n",
    "    # Calculate log versions of prior probabilities p(c) and posterior probabilities for each word p(w|c)\n",
    "\n",
    "    log_prior = {}\n",
    "\n",
    "    log_likelihood = {}\n",
    "\n",
    "    for c in classes:\n",
    "\n",
    "        log_prior[c] = np.log(np.sum(data['label'] == c) / n)\n",
    "\n",
    "        for word in vocab:\n",
    "\n",
    "            log_likelihood[(word, c)] = np.log(\n",
    "\n",
    "                (vocab_counts.get((word, c), 0) + 1) / (class_word_counts[c] + len(vocab)))\n",
    "\n",
    "\n",
    "\n",
    "    return log_prior, log_likelihood, vocab\n",
    "\n",
    "\n",
    "\n",
    "\n",
    "\n",
    "def test_naive_bayes(test_doc: str, log_prior: dict, log_likelihood: dict, classes: list[int], vocab: set):\n",
    "\n",
    "    # Initialize all scores to 0\n",
    "\n",
    "    score = [0] * len(classes)\n",
    "\n",
    "    # Loop over each class and calculate the score of this class given the test doc\n",
    "\n",
    "    for c_i, c in enumerate(classes):\n",
    "\n",
    "        score[c_i] = log_prior[c]  # Initialize score to log prior probability\n",
    "\n",
    "        # Add likelihood of each word in the sentence given current class (if it was in the vocabulary)\n",
    "\n",
    "        for word in test_doc.lower().split():\n",
    "\n",
    "            if word in vocab:\n",
    "\n",
    "                score[c_i] += log_likelihood[(word, c)]\n",
    "\n",
    "    # Return class with the max score\n",
    "\n",
    "    return classes[np.argmax(score)]"
   ]
  },
  {
   "cell_type": "markdown",
   "metadata": {},
   "source": [
    "## Custom Implementation Accuracy of the Naïve Bayes Classifier"
   ]
  },
  {
   "cell_type": "code",
   "execution_count": 8,
   "metadata": {
    "execution": {
     "iopub.execute_input": "2024-11-01T18:17:37.560929Z",
     "iopub.status.busy": "2024-11-01T18:17:37.560616Z",
     "iopub.status.idle": "2024-11-01T18:17:38.147374Z",
     "shell.execute_reply": "2024-11-01T18:17:38.146402Z",
     "shell.execute_reply.started": "2024-11-01T18:17:37.560887Z"
    },
    "trusted": true
   },
   "outputs": [
    {
     "name": "stdout",
     "output_type": "stream",
     "text": [
      "Accuracy: 0.417369308600\n"
     ]
    }
   ],
   "source": [
    "def compute_accuracy(test_data: pd.DataFrame, log_prior: dict, log_likelihood: dict, classes: list[int], vocab: set):\n",
    "\n",
    "    correct_predictions = 0\n",
    "\n",
    "    total_predictions = len(test_data)\n",
    "\n",
    "    \n",
    "\n",
    "    for sentence, true_label in zip(test_data['sentence'], test_data['label']):\n",
    "\n",
    "        predicted_label = test_naive_bayes(sentence, log_prior, log_likelihood, classes, vocab)\n",
    "\n",
    "        if predicted_label == true_label:\n",
    "\n",
    "            correct_predictions += 1\n",
    "\n",
    "    \n",
    "\n",
    "    accuracy = correct_predictions / total_predictions\n",
    "\n",
    "    return accuracy\n",
    "\n",
    "\n",
    "\n",
    "# Train the Naive Bayes model\n",
    "\n",
    "log_prior, log_likelihood, vocab = train_naive_bayes(train_data)\n",
    "\n",
    "classes = train_data['label'].unique().tolist()\n",
    "\n",
    "\n",
    "\n",
    "# Compute accuracy on the test set\n",
    "\n",
    "accuracy = compute_accuracy(test_data, log_prior, log_likelihood, classes, vocab)\n",
    "\n",
    "\n",
    "\n",
    "# Generate predictions on the test set using the custom Naive Bayes classifier\n",
    "\n",
    "predicted_labels_custom_naïve_bayes = [test_naive_bayes(sentence, log_prior, log_likelihood, classes, vocab) for sentence in test_data['sentence']]\n",
    "\n",
    "\n",
    "\n",
    "print(f\"Accuracy: {accuracy:.12f}\")\n"
   ]
  },
  {
   "cell_type": "markdown",
   "metadata": {},
   "source": [
    "## Scikit Implementation Accuracy of the Naïve Bayes Classifier"
   ]
  },
  {
   "cell_type": "code",
   "execution_count": 9,
   "metadata": {
    "execution": {
     "iopub.execute_input": "2024-11-01T18:17:38.148974Z",
     "iopub.status.busy": "2024-11-01T18:17:38.148642Z",
     "iopub.status.idle": "2024-11-01T18:17:38.457920Z",
     "shell.execute_reply": "2024-11-01T18:17:38.456732Z",
     "shell.execute_reply.started": "2024-11-01T18:17:38.148940Z"
    },
    "trusted": true
   },
   "outputs": [
    {
     "name": "stdout",
     "output_type": "stream",
     "text": [
      "Accuracy: 0.416526138280\n"
     ]
    }
   ],
   "source": [
    "# Create a pipeline with CountVectorizer and MultinomialNB\n",
    "\n",
    "pipeline = Pipeline([\n",
    "\n",
    "    ('vectorizer', CountVectorizer()),\n",
    "\n",
    "    ('nb', MultinomialNB(alpha=1.0))  # Use alpha=1 for Laplace smoothing, matching the custom implementation\n",
    "\n",
    "])\n",
    "\n",
    "\n",
    "\n",
    "# Train the pipeline on the training data\n",
    "\n",
    "pipeline.fit(x_train, y_train)\n",
    "\n",
    "\n",
    "\n",
    "# Make predictions on the test set\n",
    "\n",
    "predicted_labels_Scikit_naïve_bayes = pipeline.predict(x_test)\n",
    "\n",
    "\n",
    "\n",
    "# Calculate accuracy\n",
    "\n",
    "accuracy = accuracy_score(y_test, predicted_labels_Scikit_naïve_bayes)\n",
    "\n",
    "print(f\"Accuracy: {accuracy:.12f}\")"
   ]
  },
  {
   "cell_type": "markdown",
   "metadata": {},
   "source": [
    "# Part 2: Logistic Regression"
   ]
  },
  {
   "cell_type": "markdown",
   "metadata": {},
   "source": [
    "## Preparing the Traning and Testing Labels"
   ]
  },
  {
   "cell_type": "code",
   "execution_count": 10,
   "metadata": {
    "execution": {
     "iopub.execute_input": "2024-11-01T18:17:38.462452Z",
     "iopub.status.busy": "2024-11-01T18:17:38.462030Z",
     "iopub.status.idle": "2024-11-01T18:17:38.473104Z",
     "shell.execute_reply": "2024-11-01T18:17:38.472049Z",
     "shell.execute_reply.started": "2024-11-01T18:17:38.462410Z"
    },
    "trusted": true
   },
   "outputs": [
    {
     "name": "stdout",
     "output_type": "stream",
     "text": [
      "y_train one-hot encoded shape: (10669, 5)\n",
      "y_train one-hot encoded:\n",
      "[[0. 1. 0. 0. 0.]\n",
      " [1. 0. 0. 0. 0.]\n",
      " [0. 1. 0. 0. 0.]\n",
      " ...\n",
      " [0. 0. 1. 0. 0.]\n",
      " [0. 1. 0. 0. 0.]\n",
      " [0. 0. 1. 0. 0.]]\n",
      "--------------------------------------------------\n",
      "y_test one-hot encoded shape: (1186, 5)\n",
      "y_test one-hot encoded:\n",
      "[[0. 0. 0. 1. 0.]\n",
      " [0. 1. 0. 0. 0.]\n",
      " [0. 1. 0. 0. 0.]\n",
      " ...\n",
      " [0. 0. 0. 1. 0.]\n",
      " [0. 0. 1. 0. 0.]\n",
      " [0. 0. 0. 1. 0.]]\n"
     ]
    }
   ],
   "source": [
    "#create one hot encoding for y_train, y_val, y_test\n",
    "\n",
    "def one_hot_encode(y, num_classes):\n",
    "\n",
    "    v = np.zeros((len(y), num_classes))\n",
    "\n",
    "    v[np.arange(len(y)), y] = 1\n",
    "\n",
    "    return v\n",
    "\n",
    "\n",
    "\n",
    "y_train = one_hot_encode(y_train, 5)\n",
    "\n",
    "y_test = one_hot_encode(y_test, 5)\n",
    "\n",
    "\n",
    "\n",
    "print(\"y_train one-hot encoded shape:\", y_train.shape)\n",
    "\n",
    "print(\"y_train one-hot encoded:\")\n",
    "\n",
    "print(y_train)\n",
    "\n",
    "print(\"-\" * 50)\n",
    "\n",
    "print(\"y_test one-hot encoded shape:\", y_test.shape)\n",
    "\n",
    "print(\"y_test one-hot encoded:\")\n",
    "\n",
    "print(y_test)"
   ]
  },
  {
   "cell_type": "markdown",
   "metadata": {},
   "source": [
    "## Finding the Unique Bigrams in the Dataset"
   ]
  },
  {
   "cell_type": "code",
   "execution_count": 11,
   "metadata": {
    "execution": {
     "iopub.execute_input": "2024-11-01T18:17:38.475104Z",
     "iopub.status.busy": "2024-11-01T18:17:38.474622Z",
     "iopub.status.idle": "2024-11-01T18:17:38.646456Z",
     "shell.execute_reply": "2024-11-01T18:17:38.645465Z",
     "shell.execute_reply.started": "2024-11-01T18:17:38.475048Z"
    },
    "trusted": true
   },
   "outputs": [
    {
     "name": "stdout",
     "output_type": "stream",
     "text": [
      "Combined x shape: (11855,)\n",
      "Number of unique bigrams: 108088\n",
      "First 10 bigrams: [('usually', 'when'), ('when', 'i'), ('i', 'get'), ('get', 'this'), ('this', 'much'), ('much', 'syrup'), ('syrup', 'i'), ('i', 'like'), ('like', 'pancakes'), ('pancakes', 'to')]\n"
     ]
    }
   ],
   "source": [
    "# combine x_train and x_test\n",
    "\n",
    "x_combined = pd.concat([x_train, x_test], axis=0)\n",
    "\n",
    "print(\"Combined x shape:\", x_combined.shape)\n",
    "\n",
    "\n",
    "\n",
    "# extract the Bigrams from the combined x sentences\n",
    "\n",
    "bigrams = []\n",
    "\n",
    "for sentence in x_combined:\n",
    "\n",
    "    words = sentence.split(\" \")\n",
    "\n",
    "    for i in range(len(words) - 1):\n",
    "\n",
    "        bigrams.append((words[i], words[i + 1]))\n",
    "\n",
    "        \n",
    "\n",
    "unique_bigrams = set(bigrams)\n",
    "\n",
    "print(\"Number of unique bigrams:\", len(unique_bigrams))\n",
    "\n",
    "print(\"First 10 bigrams:\", bigrams[:10])\n",
    "\n",
    "\n"
   ]
  },
  {
   "cell_type": "markdown",
   "metadata": {},
   "source": [
    "## Generating the Sparse Matrix for Training and Testing "
   ]
  },
  {
   "cell_type": "code",
   "execution_count": 12,
   "metadata": {
    "execution": {
     "iopub.execute_input": "2024-11-01T18:17:38.647898Z",
     "iopub.status.busy": "2024-11-01T18:17:38.647600Z",
     "iopub.status.idle": "2024-11-01T18:17:39.490824Z",
     "shell.execute_reply": "2024-11-01T18:17:39.489836Z",
     "shell.execute_reply.started": "2024-11-01T18:17:38.647868Z"
    },
    "trusted": true
   },
   "outputs": [
    {
     "name": "stdout",
     "output_type": "stream",
     "text": [
      "x_train_bigram_sparse shape: (10669, 108088)\n",
      "x_test_bigram_sparse shape: (1186, 108088)\n"
     ]
    }
   ],
   "source": [
    "# create a sparse matrix for bigrams for colums and sentences for rows\n",
    "\n",
    "def create_bigram_sparse_matrix(sentences, bigrams):\n",
    "\n",
    "    bigram_sparse_matrix = np.zeros((len(sentences), len(bigrams)))\n",
    "\n",
    "    bigram_to_index = {bigram: i for i, bigram in enumerate(bigrams)}\n",
    "\n",
    "    for i, sentence in enumerate(sentences):\n",
    "\n",
    "        words = sentence.split(\" \")\n",
    "\n",
    "        for j in range(len(words) - 1):\n",
    "\n",
    "            bigram = (words[j], words[j + 1])\n",
    "\n",
    "            bigram_sparse_matrix[i, bigram_to_index[bigram]] = 1\n",
    "\n",
    "    return bigram_sparse_matrix\n",
    "\n",
    "\n",
    "\n",
    "x_train_bigram_sparse = create_bigram_sparse_matrix(x_train, unique_bigrams)\n",
    "\n",
    "x_test_bigram_sparse = create_bigram_sparse_matrix(x_test, unique_bigrams)\n",
    "\n",
    "\n",
    "\n",
    "print(\"x_train_bigram_sparse shape:\", x_train_bigram_sparse.shape)\n",
    "\n",
    "print(\"x_test_bigram_sparse shape:\", x_test_bigram_sparse.shape)"
   ]
  },
  {
   "cell_type": "markdown",
   "metadata": {},
   "source": [
    "## Logistic Regression Custom Implementation"
   ]
  },
  {
   "cell_type": "code",
   "execution_count": 13,
   "metadata": {
    "execution": {
     "iopub.execute_input": "2024-11-01T18:17:39.493063Z",
     "iopub.status.busy": "2024-11-01T18:17:39.492340Z",
     "iopub.status.idle": "2024-11-01T18:17:39.513118Z",
     "shell.execute_reply": "2024-11-01T18:17:39.512051Z",
     "shell.execute_reply.started": "2024-11-01T18:17:39.493012Z"
    },
    "trusted": true
   },
   "outputs": [],
   "source": [
    "import numpy as np\n",
    "\n",
    "def sigmoid(z):\n",
    "    return 1 / (1 + np.exp(-z))\n",
    "\n",
    "def softmax(z):\n",
    "    exp_z = np.exp(z - np.max(z, axis=1, keepdims=True))\n",
    "    return exp_z / np.sum(exp_z, axis=1, keepdims=True)\n",
    "\n",
    "def cross_entropy_loss(y_true, y_pred, weights, alpha):\n",
    "    # Cross-entropy loss with L2 regularization\n",
    "    base_loss = -np.mean(np.sum(y_true * np.log(y_pred + 1e-9), axis=1))\n",
    "    l2_penalty = (alpha / 2) * np.sum(weights**2)  # L2 regularization term\n",
    "    return base_loss + l2_penalty\n",
    "\n",
    "def accuracy(y_true, y_pred):\n",
    "    y_true_labels = np.argmax(y_true, axis=1)\n",
    "    y_pred_labels = np.argmax(y_pred, axis=1)\n",
    "    return np.mean(y_true_labels == y_pred_labels)\n",
    "\n",
    "class LogisticRegressionCustom:\n",
    "    def __init__(self, num_features, alpha=0.01):\n",
    "        self.num_features = num_features\n",
    "        self.alpha = alpha  # Regularization strength\n",
    "        # (Glorot) Initialization for the weights\n",
    "        self.weights = np.random.uniform(\n",
    "            -np.sqrt(6 / (num_features + 5)), \n",
    "            np.sqrt(6 / (num_features + 5)), \n",
    "            (num_features, 5)\n",
    "        ) * 0.001\n",
    "        self.bias = np.zeros(5)\n",
    "        \n",
    "    def forward(self, x):\n",
    "        return softmax(np.dot(x, self.weights) + self.bias)\n",
    "    \n",
    "    def backward(self, x, y_true, y_pred, learning_rate):\n",
    "        # Calculate the gradients\n",
    "        m = len(y_true)\n",
    "        grad_w = np.dot(x.T, (y_pred - y_true)) / m  # Gradient for weights (vectorized)\n",
    "        grad_b = np.sum(y_pred - y_true, axis=0) / m  # Gradient for biases (vectorized)\n",
    "        \n",
    "        # Add L2 regularization term to the weight gradient\n",
    "        grad_w += (self.alpha / m) * self.weights  # L2 penalty term for weights\n",
    "        \n",
    "        # Update weights and biases\n",
    "        self.weights -= learning_rate * grad_w\n",
    "        self.bias -= learning_rate * grad_b\n",
    "        \n",
    "    def train(self, x, y, learning_rate, epochs, batch_size=32):\n",
    "        # History of loss and accuracy\n",
    "        history = {\"loss\": [], \"accuracy\": []}\n",
    "        \n",
    "        for epoch in range(epochs):\n",
    "            # Shuffle the data at the start of each epoch\n",
    "            indices = np.arange(len(y))\n",
    "            np.random.shuffle(indices)\n",
    "            x = x[indices]\n",
    "            y = y[indices]\n",
    "            total_loss = 0\n",
    "            correct_predictions = 0\n",
    "            \n",
    "            # Mini-Batch Gradient Descent\n",
    "            for start in range(0, len(y), batch_size):\n",
    "                end = start + batch_size\n",
    "                x_batch = x[start:end]\n",
    "                y_batch = y[start:end]\n",
    "                \n",
    "                # Forward pass\n",
    "                y_pred = self.forward(x_batch)\n",
    "                \n",
    "                # Compute loss and accuracy for the batch\n",
    "                total_loss += cross_entropy_loss(y_batch, y_pred, self.weights, self.alpha) * len(y_batch)\n",
    "                correct_predictions += np.sum(np.argmax(y_batch, axis=1) == np.argmax(y_pred, axis=1))\n",
    "                \n",
    "                # Backward pass and update weights\n",
    "                self.backward(x_batch, y_batch, y_pred, learning_rate)\n",
    "            \n",
    "            # Record epoch-level loss and accuracy\n",
    "            avg_loss = total_loss / len(y)\n",
    "            avg_accuracy = correct_predictions / len(y)\n",
    "            history[\"loss\"].append(avg_loss)\n",
    "            history[\"accuracy\"].append(avg_accuracy)\n",
    "            \n",
    "            print(f\"Epoch {epoch + 1}/{epochs} - Loss: {avg_loss:.6f} - Accuracy: {avg_accuracy:.6f}\")\n",
    "        \n",
    "        return history\n",
    "            \n",
    "    def evaluate(self, x, y):\n",
    "        y_pred = self.forward(x)\n",
    "        loss = cross_entropy_loss(y, y_pred, self.weights, self.alpha)\n",
    "        acc = accuracy(y, y_pred)\n",
    "        print(f\"Loss: {loss:.6f} - Accuracy: {acc:.6f}\")\n",
    "        \n",
    "    def predict(self, x):\n",
    "        return np.argmax(self.forward(x), axis=1)\n"
   ]
  },
  {
   "cell_type": "markdown",
   "metadata": {},
   "source": [
    "## Hyper Parameters"
   ]
  },
  {
   "cell_type": "code",
   "execution_count": 26,
   "metadata": {
    "execution": {
     "iopub.execute_input": "2024-11-01T18:42:15.049036Z",
     "iopub.status.busy": "2024-11-01T18:42:15.047929Z",
     "iopub.status.idle": "2024-11-01T18:42:15.060094Z",
     "shell.execute_reply": "2024-11-01T18:42:15.059059Z",
     "shell.execute_reply.started": "2024-11-01T18:42:15.048989Z"
    },
    "trusted": true
   },
   "outputs": [],
   "source": [
    "# create the model\n",
    "\n",
    "lr = 1\n",
    "\n",
    "epochs = 60\n",
    "\n",
    "batch_size = 128\n",
    "alpha = 0.0001\n",
    "\n",
    "LogisticRegression_model = LogisticRegressionCustom(x_train_bigram_sparse.shape[1],alpha)"
   ]
  },
  {
   "cell_type": "markdown",
   "metadata": {},
   "source": [
    "## Training the Custom Model"
   ]
  },
  {
   "cell_type": "code",
   "execution_count": 27,
   "metadata": {
    "execution": {
     "iopub.execute_input": "2024-11-01T18:42:16.422030Z",
     "iopub.status.busy": "2024-11-01T18:42:16.420952Z",
     "iopub.status.idle": "2024-11-01T18:48:02.691908Z",
     "shell.execute_reply": "2024-11-01T18:48:02.690522Z",
     "shell.execute_reply.started": "2024-11-01T18:42:16.421984Z"
    },
    "scrolled": true,
    "trusted": true
   },
   "outputs": [
    {
     "name": "stdout",
     "output_type": "stream",
     "text": [
      "Epoch 1/60 - Loss: 1.556553 - Accuracy: 0.301809\n",
      "Epoch 2/60 - Loss: 1.435707 - Accuracy: 0.432749\n",
      "Epoch 3/60 - Loss: 1.336983 - Accuracy: 0.526010\n",
      "Epoch 4/60 - Loss: 1.252511 - Accuracy: 0.614491\n",
      "Epoch 5/60 - Loss: 1.178588 - Accuracy: 0.686850\n",
      "Epoch 6/60 - Loss: 1.112584 - Accuracy: 0.739057\n",
      "Epoch 7/60 - Loss: 1.053701 - Accuracy: 0.782735\n",
      "Epoch 8/60 - Loss: 1.002216 - Accuracy: 0.819477\n",
      "Epoch 9/60 - Loss: 0.955591 - Accuracy: 0.846565\n",
      "Epoch 10/60 - Loss: 0.913295 - Accuracy: 0.866342\n",
      "Epoch 11/60 - Loss: 0.875590 - Accuracy: 0.886775\n",
      "Epoch 12/60 - Loss: 0.841614 - Accuracy: 0.900553\n",
      "Epoch 13/60 - Loss: 0.810793 - Accuracy: 0.908239\n",
      "Epoch 14/60 - Loss: 0.782370 - Accuracy: 0.921173\n",
      "Epoch 15/60 - Loss: 0.756910 - Accuracy: 0.930640\n",
      "Epoch 16/60 - Loss: 0.733658 - Accuracy: 0.934483\n",
      "Epoch 17/60 - Loss: 0.712151 - Accuracy: 0.941981\n",
      "Epoch 18/60 - Loss: 0.693034 - Accuracy: 0.948730\n",
      "Epoch 19/60 - Loss: 0.674913 - Accuracy: 0.952292\n",
      "Epoch 20/60 - Loss: 0.658684 - Accuracy: 0.956603\n",
      "Epoch 21/60 - Loss: 0.643481 - Accuracy: 0.959134\n",
      "Epoch 22/60 - Loss: 0.629798 - Accuracy: 0.962227\n",
      "Epoch 23/60 - Loss: 0.617175 - Accuracy: 0.966539\n",
      "Epoch 24/60 - Loss: 0.605305 - Accuracy: 0.968976\n",
      "Epoch 25/60 - Loss: 0.594667 - Accuracy: 0.969819\n",
      "Epoch 26/60 - Loss: 0.584608 - Accuracy: 0.973568\n",
      "Epoch 27/60 - Loss: 0.575129 - Accuracy: 0.974599\n",
      "Epoch 28/60 - Loss: 0.567071 - Accuracy: 0.976286\n",
      "Epoch 29/60 - Loss: 0.559277 - Accuracy: 0.978348\n",
      "Epoch 30/60 - Loss: 0.552063 - Accuracy: 0.978911\n",
      "Epoch 31/60 - Loss: 0.545268 - Accuracy: 0.981348\n",
      "Epoch 32/60 - Loss: 0.539012 - Accuracy: 0.982566\n",
      "Epoch 33/60 - Loss: 0.533387 - Accuracy: 0.984441\n",
      "Epoch 34/60 - Loss: 0.528206 - Accuracy: 0.985284\n",
      "Epoch 35/60 - Loss: 0.523403 - Accuracy: 0.986409\n",
      "Epoch 36/60 - Loss: 0.519011 - Accuracy: 0.987347\n",
      "Epoch 37/60 - Loss: 0.514867 - Accuracy: 0.987721\n",
      "Epoch 38/60 - Loss: 0.511028 - Accuracy: 0.987347\n",
      "Epoch 39/60 - Loss: 0.507516 - Accuracy: 0.988190\n",
      "Epoch 40/60 - Loss: 0.504353 - Accuracy: 0.988471\n",
      "Epoch 41/60 - Loss: 0.501526 - Accuracy: 0.989034\n",
      "Epoch 42/60 - Loss: 0.498855 - Accuracy: 0.989502\n",
      "Epoch 43/60 - Loss: 0.496424 - Accuracy: 0.990252\n",
      "Epoch 44/60 - Loss: 0.494083 - Accuracy: 0.990533\n",
      "Epoch 45/60 - Loss: 0.492137 - Accuracy: 0.990721\n",
      "Epoch 46/60 - Loss: 0.490324 - Accuracy: 0.990815\n",
      "Epoch 47/60 - Loss: 0.488639 - Accuracy: 0.991752\n",
      "Epoch 48/60 - Loss: 0.487199 - Accuracy: 0.991939\n",
      "Epoch 49/60 - Loss: 0.486005 - Accuracy: 0.992314\n",
      "Epoch 50/60 - Loss: 0.484769 - Accuracy: 0.992595\n",
      "Epoch 51/60 - Loss: 0.483755 - Accuracy: 0.993251\n",
      "Epoch 52/60 - Loss: 0.482934 - Accuracy: 0.993064\n",
      "Epoch 53/60 - Loss: 0.482177 - Accuracy: 0.993908\n",
      "Epoch 54/60 - Loss: 0.481505 - Accuracy: 0.994189\n",
      "Epoch 55/60 - Loss: 0.481057 - Accuracy: 0.993814\n",
      "Epoch 56/60 - Loss: 0.480633 - Accuracy: 0.994564\n",
      "Epoch 57/60 - Loss: 0.480330 - Accuracy: 0.994564\n",
      "Epoch 58/60 - Loss: 0.480072 - Accuracy: 0.994751\n",
      "Epoch 59/60 - Loss: 0.479953 - Accuracy: 0.994845\n",
      "Epoch 60/60 - Loss: 0.479869 - Accuracy: 0.995595\n"
     ]
    }
   ],
   "source": [
    "# train the model\n",
    "\n",
    "history = LogisticRegression_model.train(x_train_bigram_sparse, y_train, lr, epochs, batch_size)"
   ]
  },
  {
   "cell_type": "markdown",
   "metadata": {},
   "source": [
    "## Loss and Accuracy Plot"
   ]
  },
  {
   "cell_type": "code",
   "execution_count": 28,
   "metadata": {
    "execution": {
     "iopub.execute_input": "2024-11-01T18:50:01.061279Z",
     "iopub.status.busy": "2024-11-01T18:50:01.060498Z",
     "iopub.status.idle": "2024-11-01T18:50:01.492443Z",
     "shell.execute_reply": "2024-11-01T18:50:01.491499Z",
     "shell.execute_reply.started": "2024-11-01T18:50:01.061224Z"
    },
    "trusted": true
   },
   "outputs": [
    {
     "data": {
      "image/png": "[encoded data removed]",
      "text/plain": [
       "<Figure size 1200x400 with 2 Axes>"
      ]
     },
     "metadata": {},
     "output_type": "display_data"
    }
   ],
   "source": [
    "# plot the loss and accuracy\n",
    "\n",
    "plt.figure(figsize=(12, 4))\n",
    "\n",
    "plt.subplot(1, 2, 1)\n",
    "\n",
    "plt.plot(history[\"loss\"])\n",
    "\n",
    "plt.title(\"Loss\")\n",
    "\n",
    "plt.xlabel(\"Epoch\")\n",
    "\n",
    "plt.ylabel(\"Loss\")\n",
    "\n",
    "plt.subplot(1, 2, 2)\n",
    "\n",
    "plt.plot(history[\"accuracy\"])\n",
    "\n",
    "plt.title(\"Accuracy\")\n",
    "\n",
    "plt.xlabel(\"Epoch\")\n",
    "\n",
    "plt.ylabel(\"Accuracy\")\n",
    "\n",
    "plt.show()"
   ]
  },
  {
   "cell_type": "markdown",
   "metadata": {},
   "source": [
    "## Custom Implementation Accuracy and Loss for the Logistic Regression Model"
   ]
  },
  {
   "cell_type": "code",
   "execution_count": 29,
   "metadata": {
    "execution": {
     "iopub.execute_input": "2024-11-01T18:50:07.343826Z",
     "iopub.status.busy": "2024-11-01T18:50:07.343023Z",
     "iopub.status.idle": "2024-11-01T18:50:08.071080Z",
     "shell.execute_reply": "2024-11-01T18:50:08.067820Z",
     "shell.execute_reply.started": "2024-11-01T18:50:07.343783Z"
    },
    "trusted": true
   },
   "outputs": [
    {
     "name": "stdout",
     "output_type": "stream",
     "text": [
      "Train Data:\n",
      "Loss: 0.477510 - Accuracy: 0.995314\n",
      "Test Data:\n",
      "Loss: 1.755864 - Accuracy: 0.346543\n"
     ]
    }
   ],
   "source": [
    "# evaluate the model\n",
    "\n",
    "print(\"Train Data:\")\n",
    "\n",
    "LogisticRegression_model.evaluate(x_train_bigram_sparse, y_train)\n",
    "\n",
    "\n",
    "\n",
    "print(\"Test Data:\")\n",
    "\n",
    "LogisticRegression_model.evaluate(x_test_bigram_sparse, y_test)"
   ]
  },
  {
   "cell_type": "markdown",
   "metadata": {},
   "source": [
    "## Scikit Implementation Accuracy of the SGD Classifier and Logistic Regression Model"
   ]
  },
  {
   "cell_type": "code",
   "execution_count": 18,
   "metadata": {
    "execution": {
     "iopub.execute_input": "2024-11-01T18:32:17.694027Z",
     "iopub.status.busy": "2024-11-01T18:32:17.693033Z",
     "iopub.status.idle": "2024-11-01T18:38:48.745311Z",
     "shell.execute_reply": "2024-11-01T18:38:48.744122Z",
     "shell.execute_reply.started": "2024-11-01T18:32:17.693957Z"
    },
    "trusted": true
   },
   "outputs": [
    {
     "name": "stdout",
     "output_type": "stream",
     "text": [
      "SGD Classifier Accuracy: 0.34654300168634067\n",
      "Logistic Regression Accuracy: 0.3372681281618887\n"
     ]
    }
   ],
   "source": [
    "# Convert one-hot encoded labels to single-label format\n",
    "y_train_1d = np.argmax(y_train, axis=1)\n",
    "y_test_1d = np.argmax(y_test, axis=1)\n",
    "\n",
    "# Initialize the models with specific parameters\n",
    "sgd_classifier = SGDClassifier(loss=\"log_loss\", penalty=\"l2\", max_iter=150, tol=1e-3)\n",
    "logistic_regression = LogisticRegression(max_iter=150, tol=1e-3)\n",
    "\n",
    "# Training the models\n",
    "sgd_classifier.fit(x_train_bigram_sparse, y_train_1d)\n",
    "logistic_regression.fit(x_train_bigram_sparse, y_train_1d)\n",
    "\n",
    "# Predicting the test labels\n",
    "y_pred_sgd = sgd_classifier.predict(x_test_bigram_sparse)\n",
    "y_pred_logreg = logistic_regression.predict(x_test_bigram_sparse)\n",
    "\n",
    "# Calculating the accuracy of the models\n",
    "accuracy_sgd = accuracy_score(y_test_1d, y_pred_sgd)\n",
    "accuracy_logreg = accuracy_score(y_test_1d, y_pred_logreg)\n",
    "\n",
    "# Print the accuracies\n",
    "print(\"SGD Classifier Accuracy:\", accuracy_sgd)\n",
    "print(\"Logistic Regression Accuracy:\", accuracy_logreg)"
   ]
  },
  {
   "cell_type": "markdown",
   "metadata": {},
   "source": [
    "# Part 3: Confusion Matrix & Evaluation Metrics"
   ]
  },
  {
   "cell_type": "markdown",
   "metadata": {},
   "source": [
    "## Confusion Matrix & Evaluation Metrics Custom implementation"
   ]
  },
  {
   "cell_type": "code",
   "execution_count": 19,
   "metadata": {
    "execution": {
     "iopub.execute_input": "2024-11-01T18:38:48.752718Z",
     "iopub.status.busy": "2024-11-01T18:38:48.746916Z",
     "iopub.status.idle": "2024-11-01T18:38:48.779916Z",
     "shell.execute_reply": "2024-11-01T18:38:48.778251Z",
     "shell.execute_reply.started": "2024-11-01T18:38:48.752645Z"
    },
    "trusted": true
   },
   "outputs": [],
   "source": [
    "# Get confusion matrix with rows as actual classes and columns as predicted classes\n",
    "def get_confusion_matrix_custom(predicted, actual):\n",
    "    classes = np.unique(actual)\n",
    "    n = len(classes)\n",
    "    confusion_matrix = np.zeros((n, n), dtype=int)\n",
    "    for a, p in zip(actual, predicted):\n",
    "        confusion_matrix[a, p] += 1\n",
    "    return confusion_matrix\n",
    "\n",
    "# Get macro-averaged precision over all classes\n",
    "def precision_custom(confusion_matrix):\n",
    "    avg_precision = 0\n",
    "    for c in range(confusion_matrix.shape[0]):\n",
    "        tp = confusion_matrix[c, c]\n",
    "        fp = np.sum(confusion_matrix[:, c]) - tp\n",
    "        # Avoid division by zero\n",
    "        if (tp + fp) > 0:\n",
    "            avg_precision += tp / (tp + fp)\n",
    "    return avg_precision / confusion_matrix.shape[0]\n",
    "\n",
    "# Get macro-averaged recall over all classes\n",
    "def recall_custom(confusion_matrix):\n",
    "    avg_recall = 0\n",
    "    for c in range(confusion_matrix.shape[0]):\n",
    "        tp = confusion_matrix[c, c]\n",
    "        fn = np.sum(confusion_matrix[c, :]) - tp\n",
    "        # Avoid division by zero\n",
    "        if (tp + fn) > 0:\n",
    "            avg_recall += tp / (tp + fn)\n",
    "    return avg_recall / confusion_matrix.shape[0]\n",
    "\n",
    "# Get macro-averaged F1 score over all classes\n",
    "def f1_score_custom(confusion_matrix):\n",
    "    avg_f1 = 0\n",
    "    for c in range(confusion_matrix.shape[0]):\n",
    "        tp = confusion_matrix[c, c]\n",
    "        fp = np.sum(confusion_matrix[:, c]) - tp\n",
    "        fn = np.sum(confusion_matrix[c, :]) - tp\n",
    "        # Calculate precision and recall, avoid division by zero in F1 calculation\n",
    "        if (tp + fp) > 0:\n",
    "            precision = tp / (tp + fp)\n",
    "        else:\n",
    "            precision = 0\n",
    "        if (tp + fn) > 0:\n",
    "            recall = tp / (tp + fn)\n",
    "        else:\n",
    "            recall = 0\n",
    "        if (precision + recall) > 0:\n",
    "            avg_f1 += 2 * (precision * recall) / (precision + recall)\n",
    "    return avg_f1 / confusion_matrix.shape[0]\n"
   ]
  },
  {
   "cell_type": "markdown",
   "metadata": {},
   "source": [
    "### Evaluation Part 1"
   ]
  },
  {
   "cell_type": "code",
   "execution_count": 20,
   "metadata": {
    "execution": {
     "iopub.execute_input": "2024-11-01T18:38:48.783203Z",
     "iopub.status.busy": "2024-11-01T18:38:48.782281Z",
     "iopub.status.idle": "2024-11-01T18:38:48.806579Z",
     "shell.execute_reply": "2024-11-01T18:38:48.805448Z",
     "shell.execute_reply.started": "2024-11-01T18:38:48.783152Z"
    },
    "trusted": true
   },
   "outputs": [
    {
     "name": "stdout",
     "output_type": "stream",
     "text": [
      "Confusion Matrix for Custom Naïve Bayes:\n",
      "[[ 15 104   8  24   0]\n",
      " [  8 210  21  73   2]\n",
      " [  2 104  26  84   9]\n",
      " [  1  61  19 197  33]\n",
      " [  1  26   6 105  47]]\n",
      "\n",
      "Macro Precision for Custom Naïve Bayes: 0.444149630204\n",
      "Macro Recall for Custom Naïve Bayes: 0.354235536268\n",
      "Macro F1 Score for Custom Naïve Bayes: 0.337730602911\n",
      "\n",
      "Confusion Matrix for Scikit Naïve Bayes:\n",
      "[[ 16 103   8  24   0]\n",
      " [ 10 210  22  70   2]\n",
      " [  3 105  26  82   9]\n",
      " [  2  60  22 194  33]\n",
      " [  1  28   5 103  48]]\n",
      "\n",
      "Macro Precision for Scikit Naïve Bayes: 0.432031979374\n",
      "Macro Recall for Scikit Naïve Bayes: 0.354711860210\n",
      "Macro F1 Score for Scikit Naïve Bayes: 0.339471607011\n"
     ]
    }
   ],
   "source": [
    "actual_labels = test_data['label'].tolist()\n",
    "\n",
    "\n",
    "\n",
    "# Calculate the confusion matrix for custom naïve bayes\n",
    "\n",
    "conf_matrix_custom_naïve_bayes = get_confusion_matrix_custom(predicted_labels_custom_naïve_bayes, actual_labels)\n",
    "\n",
    "\n",
    "\n",
    "# Calculate precision, recall, and F1 score\n",
    "\n",
    "macro_precision_custom_naïve_bayes = precision_custom(conf_matrix_custom_naïve_bayes)\n",
    "\n",
    "macro_recall_custom_naïve_bayes = recall_custom(conf_matrix_custom_naïve_bayes)\n",
    "\n",
    "macro_f1_custom_naïve_bayes = f1_score_custom(conf_matrix_custom_naïve_bayes)\n",
    "\n",
    "\n",
    "\n",
    "# Calculate the confusion matrix \n",
    "\n",
    "conf_matrix_Scikit_naïve_bayes = get_confusion_matrix_custom(predicted_labels_Scikit_naïve_bayes, actual_labels)\n",
    "\n",
    "\n",
    "\n",
    "# Calculate precision, recall, and F1 score\n",
    "\n",
    "macro_precision_Scikit_naïve_bayes = precision_custom(conf_matrix_Scikit_naïve_bayes)\n",
    "\n",
    "macro_recall_Scikit_naïve_bayes = recall_custom(conf_matrix_Scikit_naïve_bayes)\n",
    "\n",
    "macro_f1_Scikit_naïve_bayes = f1_score_custom(conf_matrix_Scikit_naïve_bayes)\n",
    "\n",
    "\n",
    "\n",
    "print(\"Confusion Matrix for Custom Naïve Bayes:\")\n",
    "\n",
    "print(conf_matrix_custom_naïve_bayes)\n",
    "\n",
    "print(f\"\\nMacro Precision for Custom Naïve Bayes: {macro_precision_custom_naïve_bayes:.12f}\")\n",
    "\n",
    "print(f\"Macro Recall for Custom Naïve Bayes: {macro_recall_custom_naïve_bayes:.12f}\")\n",
    "\n",
    "print(f\"Macro F1 Score for Custom Naïve Bayes: {macro_f1_custom_naïve_bayes:.12f}\")\n",
    "\n",
    "\n",
    "\n",
    "print(\"\\nConfusion Matrix for Scikit Naïve Bayes:\")\n",
    "\n",
    "print(conf_matrix_Scikit_naïve_bayes)\n",
    "\n",
    "print(f\"\\nMacro Precision for Scikit Naïve Bayes: {macro_precision_Scikit_naïve_bayes:.12f}\")\n",
    "\n",
    "print(f\"Macro Recall for Scikit Naïve Bayes: {macro_recall_Scikit_naïve_bayes:.12f}\")\n",
    "\n",
    "print(f\"Macro F1 Score for Scikit Naïve Bayes: {macro_f1_Scikit_naïve_bayes:.12f}\")"
   ]
  },
  {
   "cell_type": "markdown",
   "metadata": {},
   "source": [
    "### Evaluation Part 2"
   ]
  },
  {
   "cell_type": "code",
   "execution_count": 30,
   "metadata": {
    "execution": {
     "iopub.execute_input": "2024-11-01T18:51:50.234105Z",
     "iopub.status.busy": "2024-11-01T18:51:50.233239Z",
     "iopub.status.idle": "2024-11-01T18:51:50.327832Z",
     "shell.execute_reply": "2024-11-01T18:51:50.326558Z",
     "shell.execute_reply.started": "2024-11-01T18:51:50.234062Z"
    },
    "trusted": true
   },
   "outputs": [
    {
     "name": "stdout",
     "output_type": "stream",
     "text": [
      "Confusion Matrix for Custom Logistic Regression:\n",
      " [[ 19  86  18  26   2]\n",
      " [ 36 146  44  71  17]\n",
      " [  9  89  41  75  11]\n",
      " [  4  69  47 157  34]\n",
      " [  5  40  12  80  48]]\n",
      "Macro Precision for Custom Logistic Regression: 0.3330659570665563\n",
      "Macro Recall for Custom Logistic Regression: 0.30746016004857235\n",
      "Macro F1 Score Score For Custom Logistic Regression: 0.3066691429350844\n",
      "Confusion Matrix for Scikit Naïve Bayes:\n",
      " [[ 18  85  20  25   3]\n",
      " [ 34 143  53  67  17]\n",
      " [  9  91  41  73  11]\n",
      " [  3  72  52 148  36]\n",
      " [  3  38  15  79  50]]\n",
      "Macro Precision for Scikit Naïve Bayes: 0.32668216690528185\n",
      "Macro Recall for Scikit Naïve Bayes: 0.30059920952351626\n",
      "Macro F1 Score Score For Scikit Naïve Bayes: 0.30084249863921186\n",
      "Confusion Matrix for SGD Classifier:\n",
      " [[ 22  68  19  37   5]\n",
      " [ 33 125  45  94  17]\n",
      " [  9  67  40  96  13]\n",
      " [  3  55  46 168  39]\n",
      " [  2  23  14  90  56]]\n",
      "Macro Precision for SGD Classifier: 0.34194529745763724\n",
      "Macro Recall for SGD Classifier: 0.3128915885476859\n",
      "Macro F1 Score Score For SGD Classifier: 0.3133514436267497\n"
     ]
    }
   ],
   "source": [
    "# Get the confusion matrix for custom logistic regression\n",
    "\n",
    "conf_matrix_custom_logistic_regression = get_confusion_matrix_custom(LogisticRegression_model.predict(x_test_bigram_sparse), np.argmax(y_test, axis=1))\n",
    "\n",
    "\n",
    "\n",
    "# Calculate precision, recall, and F1 score using the confusion matrix\n",
    "\n",
    "macro_precision_custom_logistic_regression = precision_custom(conf_matrix_custom_logistic_regression)\n",
    "\n",
    "macro_recall_custom_logistic_regression = recall_custom(conf_matrix_custom_logistic_regression)\n",
    "\n",
    "macro_f1_custom_logistic_regression = f1_score_custom(conf_matrix_custom_logistic_regression)\n",
    "\n",
    "\n",
    "\n",
    "print(\"Confusion Matrix for Custom Logistic Regression:\\n\", conf_matrix_custom_logistic_regression)\n",
    "\n",
    "print(\"Macro Precision for Custom Logistic Regression:\", macro_precision_custom_logistic_regression)\n",
    "\n",
    "print(\"Macro Recall for Custom Logistic Regression:\", macro_recall_custom_logistic_regression)\n",
    "\n",
    "print(\"Macro F1 Score Score For Custom Logistic Regression:\", macro_f1_custom_logistic_regression)\n",
    "\n",
    "\n",
    "\n",
    "# Get the confusion matrix for scikit-learn logistic regression and SGD classifier\n",
    "\n",
    "conf_matrix_logistic_regression = get_confusion_matrix_custom(y_pred_logreg, np.argmax(y_test, axis=1))\n",
    "\n",
    "conf_matrix_sgd_classifier = get_confusion_matrix_custom(y_pred_sgd, np.argmax(y_test, axis=1))\n",
    "\n",
    "\n",
    "\n",
    "# Calculate precision, recall, and F1 score using the confusion matrix\n",
    "\n",
    "macro_precision_logistic_regression = precision_custom(conf_matrix_logistic_regression)\n",
    "\n",
    "macro_recall_logistic_regression = recall_custom(conf_matrix_logistic_regression)\n",
    "\n",
    "macro_f1_logistic_regression = f1_score_custom(conf_matrix_logistic_regression)\n",
    "\n",
    "\n",
    "\n",
    "macro_precision_sgd_classifier = precision_custom(conf_matrix_sgd_classifier)\n",
    "\n",
    "macro_recall_sgd_classifier = recall_custom(conf_matrix_sgd_classifier)\n",
    "\n",
    "macro_f1_sgd_classifier = f1_score_custom(conf_matrix_sgd_classifier)\n",
    "\n",
    "\n",
    "\n",
    "print(\"Confusion Matrix for Scikit Naïve Bayes:\\n\", conf_matrix_logistic_regression)\n",
    "\n",
    "print(\"Macro Precision for Scikit Naïve Bayes:\", macro_precision_logistic_regression)\n",
    "\n",
    "print(\"Macro Recall for Scikit Naïve Bayes:\", macro_recall_logistic_regression)\n",
    "\n",
    "print(\"Macro F1 Score Score For Scikit Naïve Bayes:\", macro_f1_logistic_regression)\n",
    "\n",
    "\n",
    "\n",
    "print(\"Confusion Matrix for SGD Classifier:\\n\", conf_matrix_sgd_classifier)\n",
    "\n",
    "print(\"Macro Precision for SGD Classifier:\", macro_precision_sgd_classifier)\n",
    "\n",
    "print(\"Macro Recall for SGD Classifier:\", macro_recall_sgd_classifier)\n",
    "\n",
    "print(\"Macro F1 Score Score For SGD Classifier:\", macro_f1_sgd_classifier)"
   ]
  },
  {
   "cell_type": "markdown",
   "metadata": {},
   "source": [
    "### Ploting Metrics"
   ]
  },
  {
   "cell_type": "code",
   "execution_count": 31,
   "metadata": {
    "execution": {
     "iopub.execute_input": "2024-11-01T18:52:01.588893Z",
     "iopub.status.busy": "2024-11-01T18:52:01.587971Z",
     "iopub.status.idle": "2024-11-01T18:52:03.427537Z",
     "shell.execute_reply": "2024-11-01T18:52:03.426548Z",
     "shell.execute_reply.started": "2024-11-01T18:52:01.588851Z"
    },
    "trusted": true
   },
   "outputs": [
    {
     "data": {
      "image/png": "[encoded data removed]",
      "text/plain": [
       "<Figure size 1200x600 with 3 Axes>"
      ]
     },
     "metadata": {},
     "output_type": "display_data"
    },
    {
     "data": {
      "image/png": "[encoded data removed]",
      "text/plain": [
       "<Figure size 2000x1000 with 5 Axes>"
      ]
     },
     "metadata": {},
     "output_type": "display_data"
    }
   ],
   "source": [
    "models = [\"Custom Naïve Bayes\", \"Scikit Naïve Bayes\", \"Custom Logistic Regression\", \"Scikit Logistic Regression\", \"SGD Classifier\"]\n",
    "\n",
    "metrics = [\"Precision\", \"Recall\", \"F1 Score\"]\n",
    "\n",
    "values = [\n",
    "\n",
    "    [macro_precision_custom_naïve_bayes, macro_recall_custom_naïve_bayes, macro_f1_custom_naïve_bayes],\n",
    "\n",
    "    [macro_precision_Scikit_naïve_bayes, macro_recall_Scikit_naïve_bayes, macro_f1_Scikit_naïve_bayes],\n",
    "\n",
    "    [macro_precision_custom_logistic_regression, macro_recall_custom_logistic_regression, macro_f1_custom_logistic_regression],\n",
    "\n",
    "    [macro_precision_logistic_regression, macro_recall_logistic_regression, macro_f1_logistic_regression],\n",
    "\n",
    "    [macro_precision_sgd_classifier, macro_recall_sgd_classifier, macro_f1_sgd_classifier]\n",
    "\n",
    "]\n",
    "\n",
    "\n",
    "\n",
    "plt.figure(figsize=(12, 6))\n",
    "\n",
    "for i, metric in enumerate(metrics):\n",
    "\n",
    "    plt.subplot(1, 3, i + 1)\n",
    "\n",
    "    plt.bar(models, [v[i] for v in values])\n",
    "\n",
    "    plt.title(metric)\n",
    "\n",
    "    plt.ylabel(metric)\n",
    "\n",
    "    plt.xticks(rotation=45)\n",
    "\n",
    "plt.tight_layout()\n",
    "\n",
    "plt.show()\n",
    "\n",
    "\n",
    "\n",
    "# plot the confusion matrix for all 5 models next to each other\n",
    "\n",
    "plt.figure(figsize=(20, 10))\n",
    "\n",
    "plt.subplot(2, 3, 1)\n",
    "\n",
    "plt.title(\"Custom Naïve Bayes\")\n",
    "\n",
    "plt.imshow(conf_matrix_custom_naïve_bayes, cmap=\"Blues\", interpolation=\"nearest\")\n",
    "\n",
    "plt.subplot(2, 3, 2)\n",
    "\n",
    "plt.title(\"Scikit Naïve Bayes\")\n",
    "\n",
    "plt.imshow(conf_matrix_Scikit_naïve_bayes, cmap=\"Blues\", interpolation=\"nearest\")\n",
    "\n",
    "plt.subplot(2, 3, 3)\n",
    "\n",
    "plt.title(\"Custom Logistic Regression\")\n",
    "\n",
    "plt.imshow(conf_matrix_custom_logistic_regression, cmap=\"Blues\", interpolation=\"nearest\")\n",
    "\n",
    "plt.subplot(2, 3, 4)\n",
    "\n",
    "plt.title(\"Scikit Logistic Regression\")\n",
    "\n",
    "plt.imshow(conf_matrix_logistic_regression, cmap=\"Blues\", interpolation=\"nearest\")\n",
    "\n",
    "plt.subplot(2, 3, 5)\n",
    "\n",
    "plt.title(\"SGD Classifier\")\n",
    "\n",
    "plt.imshow(conf_matrix_sgd_classifier, cmap=\"Blues\", interpolation=\"nearest\")\n",
    "\n",
    "plt.tight_layout()\n",
    "\n",
    "plt.show()"
   ]
  },
  {
   "cell_type": "markdown",
   "metadata": {},
   "source": [
    "## Confusion Matrix & Evaluation Metrics sklearn implementation"
   ]
  },
  {
   "cell_type": "markdown",
   "metadata": {},
   "source": [
    "### Evaluation Part 1"
   ]
  },
  {
   "cell_type": "code",
   "execution_count": 32,
   "metadata": {
    "execution": {
     "iopub.execute_input": "2024-11-01T18:52:14.097185Z",
     "iopub.status.busy": "2024-11-01T18:52:14.096769Z",
     "iopub.status.idle": "2024-11-01T18:52:14.124021Z",
     "shell.execute_reply": "2024-11-01T18:52:14.123088Z",
     "shell.execute_reply.started": "2024-11-01T18:52:14.097148Z"
    },
    "trusted": true
   },
   "outputs": [
    {
     "name": "stdout",
     "output_type": "stream",
     "text": [
      "Confusion Matrix for Custom Naïve Bayes:\n",
      "[[ 15 104   8  24   0]\n",
      " [  8 210  21  73   2]\n",
      " [  2 104  26  84   9]\n",
      " [  1  61  19 197  33]\n",
      " [  1  26   6 105  47]]\n",
      "\n",
      "Macro Precision for Custom Naïve Bayes: 0.444149630204\n",
      "Macro Recall for Custom Naïve Bayes: 0.354235536268\n",
      "Macro F1 Score for Custom Naïve Bayes: 0.337730602911\n",
      "\n",
      "Confusion Matrix for Scikit Naïve Bayes:\n",
      "[[ 16 103   8  24   0]\n",
      " [ 10 210  22  70   2]\n",
      " [  3 105  26  82   9]\n",
      " [  2  60  22 194  33]\n",
      " [  1  28   5 103  48]]\n",
      "\n",
      "Macro Precision for Scikit Naïve Bayes: 0.432031979374\n",
      "Macro Recall for Scikit Naïve Bayes: 0.354711860210\n",
      "Macro F1 Score for Scikit Naïve Bayes: 0.339471607011\n"
     ]
    }
   ],
   "source": [
    "# Calculate the confusion matrix for custom Naïve Bayes\n",
    "\n",
    "conf_matrix_custom_naïve_bayes = confusion_matrix(actual_labels, predicted_labels_custom_naïve_bayes)\n",
    "\n",
    "\n",
    "\n",
    "# Calculate precision, recall, and F1 score for custom Naïve Bayes\n",
    "\n",
    "macro_precision_custom_naïve_bayes = precision_score(actual_labels, predicted_labels_custom_naïve_bayes, average='macro')\n",
    "\n",
    "macro_recall_custom_naïve_bayes = recall_score(actual_labels, predicted_labels_custom_naïve_bayes, average='macro')\n",
    "\n",
    "macro_f1_custom_naïve_bayes = f1_score(actual_labels, predicted_labels_custom_naïve_bayes, average='macro')\n",
    "\n",
    "\n",
    "\n",
    "# Calculate the confusion matrix for Scikit Naïve Bayes\n",
    "\n",
    "conf_matrix_Scikit_naïve_bayes = confusion_matrix(actual_labels, predicted_labels_Scikit_naïve_bayes)\n",
    "\n",
    "\n",
    "\n",
    "# Calculate precision, recall, and F1 score for Scikit Naïve Bayes\n",
    "\n",
    "macro_precision_Scikit_naïve_bayes = precision_score(actual_labels, predicted_labels_Scikit_naïve_bayes, average='macro')\n",
    "\n",
    "macro_recall_Scikit_naïve_bayes = recall_score(actual_labels, predicted_labels_Scikit_naïve_bayes, average='macro')\n",
    "\n",
    "macro_f1_Scikit_naïve_bayes = f1_score(actual_labels, predicted_labels_Scikit_naïve_bayes, average='macro')\n",
    "\n",
    "\n",
    "\n",
    "# Print results for Custom Naïve Bayes\n",
    "\n",
    "print(\"Confusion Matrix for Custom Naïve Bayes:\")\n",
    "\n",
    "print(conf_matrix_custom_naïve_bayes)\n",
    "\n",
    "print(f\"\\nMacro Precision for Custom Naïve Bayes: {macro_precision_custom_naïve_bayes:.12f}\")\n",
    "\n",
    "print(f\"Macro Recall for Custom Naïve Bayes: {macro_recall_custom_naïve_bayes:.12f}\")\n",
    "\n",
    "print(f\"Macro F1 Score for Custom Naïve Bayes: {macro_f1_custom_naïve_bayes:.12f}\")\n",
    "\n",
    "\n",
    "\n",
    "# Print results for Scikit Naïve Bayes\n",
    "\n",
    "print(\"\\nConfusion Matrix for Scikit Naïve Bayes:\")\n",
    "\n",
    "print(conf_matrix_Scikit_naïve_bayes)\n",
    "\n",
    "print(f\"\\nMacro Precision for Scikit Naïve Bayes: {macro_precision_Scikit_naïve_bayes:.12f}\")\n",
    "\n",
    "print(f\"Macro Recall for Scikit Naïve Bayes: {macro_recall_Scikit_naïve_bayes:.12f}\")\n",
    "\n",
    "print(f\"Macro F1 Score for Scikit Naïve Bayes: {macro_f1_Scikit_naïve_bayes:.12f}\")"
   ]
  },
  {
   "cell_type": "markdown",
   "metadata": {},
   "source": [
    "### Evaluation Part 2"
   ]
  },
  {
   "cell_type": "code",
   "execution_count": 33,
   "metadata": {
    "execution": {
     "iopub.execute_input": "2024-11-01T18:52:15.216387Z",
     "iopub.status.busy": "2024-11-01T18:52:15.215362Z",
     "iopub.status.idle": "2024-11-01T18:52:15.336823Z",
     "shell.execute_reply": "2024-11-01T18:52:15.335591Z",
     "shell.execute_reply.started": "2024-11-01T18:52:15.216342Z"
    },
    "trusted": true
   },
   "outputs": [
    {
     "name": "stdout",
     "output_type": "stream",
     "text": [
      "Confusion Matrix for Custom Logistic Regression:\n",
      "[[ 19  86  18  26   2]\n",
      " [ 36 146  44  71  17]\n",
      " [  9  89  41  75  11]\n",
      " [  4  69  47 157  34]\n",
      " [  5  40  12  80  48]]\n",
      "Macro Precision for Custom Logistic Regression: 0.3330659570665563\n",
      "Macro Recall for Custom Logistic Regression: 0.30746016004857235\n",
      "Macro F1 Score for Custom Logistic Regression: 0.3066691429350844\n",
      "\n",
      "Confusion Matrix for Scikit-Learn Logistic Regression:\n",
      "[[ 18  85  20  25   3]\n",
      " [ 34 143  53  67  17]\n",
      " [  9  91  41  73  11]\n",
      " [  3  72  52 148  36]\n",
      " [  3  38  15  79  50]]\n",
      "Macro Precision for Scikit-Learn Logistic Regression: 0.32668216690528185\n",
      "Macro Recall for Scikit-Learn Logistic Regression: 0.30059920952351626\n",
      "Macro F1 Score for Scikit-Learn Logistic Regression: 0.30084249863921186\n",
      "\n",
      "Confusion Matrix for SGD Classifier:\n",
      "[[ 22  68  19  37   5]\n",
      " [ 33 125  45  94  17]\n",
      " [  9  67  40  96  13]\n",
      " [  3  55  46 168  39]\n",
      " [  2  23  14  90  56]]\n",
      "Macro Precision for SGD Classifier: 0.34194529745763724\n",
      "Macro Recall for SGD Classifier: 0.3128915885476859\n",
      "Macro F1 Score for SGD Classifier: 0.3133514436267497\n"
     ]
    }
   ],
   "source": [
    "from sklearn.metrics import confusion_matrix, precision_score, recall_score, f1_score\n",
    "\n",
    "\n",
    "\n",
    "# Convert one-hot encoded `y_test` to single-label format\n",
    "\n",
    "actual_labels = np.argmax(y_test, axis=1)\n",
    "\n",
    "\n",
    "\n",
    "# Predictions for Custom Logistic Regression\n",
    "\n",
    "predicted_labels_custom_logistic_regression = LogisticRegression_model.predict(x_test_bigram_sparse)\n",
    "\n",
    "\n",
    "\n",
    "# Calculate confusion matrix, precision, recall, and F1 score for custom Logistic Regression\n",
    "\n",
    "conf_matrix_custom_logistic_regression = confusion_matrix(actual_labels, predicted_labels_custom_logistic_regression)\n",
    "\n",
    "macro_precision_custom_logistic_regression = precision_score(actual_labels, predicted_labels_custom_logistic_regression, average='macro')\n",
    "\n",
    "macro_recall_custom_logistic_regression = recall_score(actual_labels, predicted_labels_custom_logistic_regression, average='macro')\n",
    "\n",
    "macro_f1_custom_logistic_regression = f1_score(actual_labels, predicted_labels_custom_logistic_regression, average='macro')\n",
    "\n",
    "\n",
    "\n",
    "# Print results for Custom Logistic Regression\n",
    "\n",
    "print(\"Confusion Matrix for Custom Logistic Regression:\")\n",
    "\n",
    "print(conf_matrix_custom_logistic_regression)\n",
    "\n",
    "print(\"Macro Precision for Custom Logistic Regression:\", macro_precision_custom_logistic_regression)\n",
    "\n",
    "print(\"Macro Recall for Custom Logistic Regression:\", macro_recall_custom_logistic_regression)\n",
    "\n",
    "print(\"Macro F1 Score for Custom Logistic Regression:\", macro_f1_custom_logistic_regression)\n",
    "\n",
    "\n",
    "\n",
    "# Calculate confusion matrix, precision, recall, and F1 score for scikit-learn Logistic Regression\n",
    "\n",
    "conf_matrix_logistic_regression = confusion_matrix(actual_labels, y_pred_logreg)\n",
    "\n",
    "macro_precision_logistic_regression = precision_score(actual_labels, y_pred_logreg, average='macro')\n",
    "\n",
    "macro_recall_logistic_regression = recall_score(actual_labels, y_pred_logreg, average='macro')\n",
    "\n",
    "macro_f1_logistic_regression = f1_score(actual_labels, y_pred_logreg, average='macro')\n",
    "\n",
    "\n",
    "\n",
    "# Print results for Scikit-Learn Logistic Regression\n",
    "\n",
    "print(\"\\nConfusion Matrix for Scikit-Learn Logistic Regression:\")\n",
    "\n",
    "print(conf_matrix_logistic_regression)\n",
    "\n",
    "print(\"Macro Precision for Scikit-Learn Logistic Regression:\", macro_precision_logistic_regression)\n",
    "\n",
    "print(\"Macro Recall for Scikit-Learn Logistic Regression:\", macro_recall_logistic_regression)\n",
    "\n",
    "print(\"Macro F1 Score for Scikit-Learn Logistic Regression:\", macro_f1_logistic_regression)\n",
    "\n",
    "\n",
    "\n",
    "# Calculate confusion matrix, precision, recall, and F1 score for scikit-learn SGD Classifier\n",
    "\n",
    "conf_matrix_sgd_classifier = confusion_matrix(actual_labels, y_pred_sgd)\n",
    "\n",
    "macro_precision_sgd_classifier = precision_score(actual_labels, y_pred_sgd, average='macro')\n",
    "\n",
    "macro_recall_sgd_classifier = recall_score(actual_labels, y_pred_sgd, average='macro')\n",
    "\n",
    "macro_f1_sgd_classifier = f1_score(actual_labels, y_pred_sgd, average='macro')\n",
    "\n",
    "\n",
    "\n",
    "# Print results for Scikit-Learn SGD Classifier\n",
    "\n",
    "print(\"\\nConfusion Matrix for SGD Classifier:\")\n",
    "\n",
    "print(conf_matrix_sgd_classifier)\n",
    "\n",
    "print(\"Macro Precision for SGD Classifier:\", macro_precision_sgd_classifier)\n",
    "\n",
    "print(\"Macro Recall for SGD Classifier:\", macro_recall_sgd_classifier)\n",
    "\n",
    "print(\"Macro F1 Score for SGD Classifier:\", macro_f1_sgd_classifier)"
   ]
  },
  {
   "cell_type": "markdown",
   "metadata": {},
   "source": [
    "### Ploting Metrics"
   ]
  },
  {
   "cell_type": "code",
   "execution_count": 34,
   "metadata": {
    "execution": {
     "iopub.execute_input": "2024-11-01T18:52:20.408604Z",
     "iopub.status.busy": "2024-11-01T18:52:20.407678Z",
     "iopub.status.idle": "2024-11-01T18:52:21.914920Z",
     "shell.execute_reply": "2024-11-01T18:52:21.913891Z",
     "shell.execute_reply.started": "2024-11-01T18:52:20.408557Z"
    },
    "trusted": true
   },
   "outputs": [
    {
     "data": {
      "image/png": "[encoded data removed]",
      "text/plain": [
       "<Figure size 1200x600 with 3 Axes>"
      ]
     },
     "metadata": {},
     "output_type": "display_data"
    },
    {
     "data": {
      "image/png": "[encoded data removed]",
      "text/plain": [
       "<Figure size 2000x1000 with 5 Axes>"
      ]
     },
     "metadata": {},
     "output_type": "display_data"
    }
   ],
   "source": [
    "models = [\"Custom Naïve Bayes\", \"Scikit Naïve Bayes\", \"Custom Logistic Regression\", \"Scikit Logistic Regression\", \"SGD Classifier\"]\n",
    "\n",
    "metrics = [\"Precision\", \"Recall\", \"F1 Score\"]\n",
    "\n",
    "values = [\n",
    "\n",
    "    [macro_precision_custom_naïve_bayes, macro_recall_custom_naïve_bayes, macro_f1_custom_naïve_bayes],\n",
    "\n",
    "    [macro_precision_Scikit_naïve_bayes, macro_recall_Scikit_naïve_bayes, macro_f1_Scikit_naïve_bayes],\n",
    "\n",
    "    [macro_precision_custom_logistic_regression, macro_recall_custom_logistic_regression, macro_f1_custom_logistic_regression],\n",
    "\n",
    "    [macro_precision_logistic_regression, macro_recall_logistic_regression, macro_f1_logistic_regression],\n",
    "\n",
    "    [macro_precision_sgd_classifier, macro_recall_sgd_classifier, macro_f1_sgd_classifier]\n",
    "\n",
    "]\n",
    "\n",
    "\n",
    "\n",
    "plt.figure(figsize=(12, 6))\n",
    "\n",
    "for i, metric in enumerate(metrics):\n",
    "\n",
    "    plt.subplot(1, 3, i + 1)\n",
    "\n",
    "    plt.bar(models, [v[i] for v in values])\n",
    "\n",
    "    plt.title(metric)\n",
    "\n",
    "    plt.ylabel(metric)\n",
    "\n",
    "    plt.xticks(rotation=45)\n",
    "\n",
    "plt.tight_layout()\n",
    "\n",
    "plt.show()\n",
    "\n",
    "\n",
    "\n",
    "# plot the confusion matrix for all 5 models next to each other\n",
    "\n",
    "plt.figure(figsize=(20, 10))\n",
    "\n",
    "plt.subplot(2, 3, 1)\n",
    "\n",
    "plt.title(\"Custom Naïve Bayes\")\n",
    "\n",
    "plt.imshow(conf_matrix_custom_naïve_bayes, cmap=\"Blues\", interpolation=\"nearest\")\n",
    "\n",
    "plt.subplot(2, 3, 2)\n",
    "\n",
    "plt.title(\"Scikit Naïve Bayes\")\n",
    "\n",
    "plt.imshow(conf_matrix_Scikit_naïve_bayes, cmap=\"Blues\", interpolation=\"nearest\")\n",
    "\n",
    "plt.subplot(2, 3, 3)\n",
    "\n",
    "plt.title(\"Custom Logistic Regression\")\n",
    "\n",
    "plt.imshow(conf_matrix_custom_logistic_regression, cmap=\"Blues\", interpolation=\"nearest\")\n",
    "\n",
    "plt.subplot(2, 3, 4)\n",
    "\n",
    "plt.title(\"Scikit Logistic Regression\")\n",
    "\n",
    "plt.imshow(conf_matrix_logistic_regression, cmap=\"Blues\", interpolation=\"nearest\")\n",
    "\n",
    "plt.subplot(2, 3, 5)\n",
    "\n",
    "plt.title(\"SGD Classifier\")\n",
    "\n",
    "plt.imshow(conf_matrix_sgd_classifier, cmap=\"Blues\", interpolation=\"nearest\")\n",
    "\n",
    "plt.tight_layout()\n",
    "\n",
    "plt.show()"
   ]
  }
 ],
 "metadata": {
  "kaggle": {
   "accelerator": "gpu",
   "dataSources": [],
   "dockerImageVersionId": 30787,
   "isGpuEnabled": true,
   "isInternetEnabled": true,
   "language": "python",
   "sourceType": "notebook"
  },
  "kernelspec": {
   "display_name": ".venv",
   "language": "python",
   "name": "python3"
  },
  "language_info": {
   "codemirror_mode": {
    "name": "ipython",
    "version": 3
   },
   "file_extension": ".py",
   "mimetype": "text/x-python",
   "name": "python",
   "nbconvert_exporter": "python",
   "pygments_lexer": "ipython3",
   "version": "3.13.0"
  }
 },
 "nbformat": 4,
 "nbformat_minor": 4
}

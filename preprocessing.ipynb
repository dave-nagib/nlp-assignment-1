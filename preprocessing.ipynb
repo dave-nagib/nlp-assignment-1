{
 "cells": [
  {
   "cell_type": "code",
   "execution_count": 10,
   "metadata": {},
   "outputs": [
    {
     "name": "stderr",
     "output_type": "stream",
     "text": [
      "Downloading data: 100%|██████████| 6.37M/6.37M [00:23<00:00, 267kB/s] \n",
      "Downloading data: 100%|██████████| 790k/790k [00:06<00:00, 125kB/s]  \n",
      "Generating train split: 100%|██████████| 8544/8544 [00:05<00:00, 1674.45 examples/s]\n",
      "Generating validation split: 100%|██████████| 1101/1101 [00:03<00:00, 303.93 examples/s]\n",
      "Generating test split: 100%|██████████| 2210/2210 [00:03<00:00, 597.72 examples/s] \n"
     ]
    }
   ],
   "source": [
    "from datasets import load_dataset\n",
    "import pandas as pd\n",
    "\n",
    "dataset = load_dataset('sst', trust_remote_code=True)"
   ]
  },
  {
   "cell_type": "code",
   "execution_count": 16,
   "metadata": {},
   "outputs": [
    {
     "data": {
      "text/plain": [
       "DatasetDict({\n",
       "    train: Dataset({\n",
       "        features: ['sentence', 'label', 'tokens', 'tree'],\n",
       "        num_rows: 8544\n",
       "    })\n",
       "    validation: Dataset({\n",
       "        features: ['sentence', 'label', 'tokens', 'tree'],\n",
       "        num_rows: 1101\n",
       "    })\n",
       "    test: Dataset({\n",
       "        features: ['sentence', 'label', 'tokens', 'tree'],\n",
       "        num_rows: 2210\n",
       "    })\n",
       "})"
      ]
     },
     "execution_count": 16,
     "metadata": {},
     "output_type": "execute_result"
    }
   ],
   "source": [
    "dataset"
   ]
  },
  {
   "cell_type": "code",
   "execution_count": 17,
   "metadata": {},
   "outputs": [],
   "source": [
    "# Read and map the scores to their classes\n",
    "def score_to_class(score):\n",
    "    if score <= 0.2:\n",
    "        return 0\n",
    "    elif score <= 0.4:\n",
    "        return 1\n",
    "    elif score <= 0.6:\n",
    "        return 2\n",
    "    elif score <= 0.8:\n",
    "        return 3\n",
    "    else:\n",
    "        return 4\n",
    "\n",
    "train_data = dataset['train'].to_pandas()[['sentence', 'label']]\n",
    "train_data['sentence'] = train_data['sentence'].apply(lambda x: x.lower())\n",
    "train_data['label'] = train_data['label'].apply(lambda x: score_to_class(x))\n",
    "\n",
    "test_data = dataset['test'].to_pandas()[['sentence', 'label']]\n",
    "test_data['sentence'] = test_data['sentence'].apply(lambda x: x.lower())\n",
    "test_data['label'] = test_data['label'].apply(lambda x: score_to_class(x))\n",
    "\n",
    "val_data = dataset['validation'].to_pandas()[['sentence', 'label']]\n",
    "val_data['sentence'] = val_data['sentence'].apply(lambda x: x.lower())\n",
    "val_data['label'] = val_data['label'].apply(lambda x: score_to_class(x))"
   ]
  },
  {
   "cell_type": "code",
   "execution_count": 30,
   "metadata": {},
   "outputs": [
    {
     "data": {
      "text/plain": [
       "1624"
      ]
     },
     "execution_count": 30,
     "metadata": {},
     "output_type": "execute_result"
    }
   ],
   "source": [
    "import numpy as np\n",
    "np.sum(train_data['label'] == 2)"
   ]
  }
 ],
 "metadata": {
  "kernelspec": {
   "display_name": "Python 3",
   "language": "python",
   "name": "python3"
  },
  "language_info": {
   "codemirror_mode": {
    "name": "ipython",
    "version": 3
   },
   "file_extension": ".py",
   "mimetype": "text/x-python",
   "name": "python",
   "nbconvert_exporter": "python",
   "pygments_lexer": "ipython3",
   "version": "3.11.5"
  }
 },
 "nbformat": 4,
 "nbformat_minor": 2
}

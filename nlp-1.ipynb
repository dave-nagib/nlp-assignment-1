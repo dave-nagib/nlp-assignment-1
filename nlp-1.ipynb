{
 "cells": [
  {
   "cell_type": "markdown",
   "id": "a7280824",
   "metadata": {},
   "source": [
    "# Imports"
   ]
  },
  {
   "cell_type": "code",
   "id": "32f0215d",
   "metadata": {
    "ExecuteTime": {
     "end_time": "2024-10-31T18:08:35.340367Z",
     "start_time": "2024-10-31T18:08:32.475568Z"
    }
   },
   "source": [
    "import pandas as pd\n",
    "import numpy as np\n",
    "from datasets import load_dataset\n",
    "from sklearn.pipeline import Pipeline\n",
    "from sklearn.feature_extraction.text import CountVectorizer\n",
    "from sklearn.naive_bayes import MultinomialNB\n",
    "from sklearn.metrics import accuracy_score"
   ],
   "outputs": [],
   "execution_count": 1
  },
  {
   "cell_type": "markdown",
   "id": "520eac4f",
   "metadata": {},
   "source": "# Load The Data, Read and map the scores to their classes"
  },
  {
   "cell_type": "code",
   "id": "875a5036",
   "metadata": {
    "ExecuteTime": {
     "end_time": "2024-10-31T18:08:39.222404Z",
     "start_time": "2024-10-31T18:08:35.341900Z"
    }
   },
   "source": [
    "dataset = load_dataset('sst', trust_remote_code=True)\n",
    "\n",
    "def score_to_class(score):\n",
    "    if score <= 0.2:\n",
    "        return 0\n",
    "    elif score <= 0.4:\n",
    "        return 1\n",
    "    elif score <= 0.6:\n",
    "        return 2\n",
    "    elif score <= 0.8:\n",
    "        return 3\n",
    "    else:\n",
    "        return 4\n",
    "\n",
    "\n",
    "train_data = dataset['train'].to_pandas()[['sentence', 'label']]\n",
    "train_data['sentence'] = train_data['sentence'].apply(lambda x: x.lower())\n",
    "train_data['label'] = train_data['label'].apply(lambda x: score_to_class(x))\n",
    "\n",
    "test_data = dataset['test'].to_pandas()[['sentence', 'label']]\n",
    "test_data['sentence'] = test_data['sentence'].apply(lambda x: x.lower())\n",
    "test_data['label'] = test_data['label'].apply(lambda x: score_to_class(x))\n",
    "\n",
    "val_data = dataset['validation'].to_pandas()[['sentence', 'label']]\n",
    "val_data['sentence'] = val_data['sentence'].apply(lambda x: x.lower())\n",
    "val_data['label'] = val_data['label'].apply(lambda x: score_to_class(x))\n",
    "\n",
    "np.sum(train_data['label'] == 2)"
   ],
   "outputs": [
    {
     "data": {
      "text/plain": [
       "np.int64(1624)"
      ]
     },
     "execution_count": 2,
     "metadata": {},
     "output_type": "execute_result"
    }
   ],
   "execution_count": 2
  },
  {
   "metadata": {},
   "cell_type": "markdown",
   "source": "# Part 1: Naïve Bayes",
   "id": "071d42d9"
  },
  {
   "cell_type": "code",
   "id": "2a13e2fb",
   "metadata": {
    "ExecuteTime": {
     "end_time": "2024-10-31T18:08:39.233682Z",
     "start_time": "2024-10-31T18:08:39.223770Z"
    }
   },
   "source": [
    "def train_naive_bayes(data: pd.DataFrame):\n",
    "    # Get the number of docs and classes of the data\n",
    "    n = len(data)\n",
    "    classes = data['label'].unique().tolist()\n",
    "\n",
    "    # Construct vocabulary, and count of each word and total word count in each class\n",
    "    vocab = set()\n",
    "    vocab_counts = {}\n",
    "    class_word_counts = {}\n",
    "    # Loop over each sentence-class pair\n",
    "    for sentence, c in zip(data['sentence'].tolist(), data['label'].tolist()):\n",
    "        for word in sentence.split():  # Loop over each word\n",
    "            vocab_counts[(word, c)] = vocab_counts.get((word, c), 0) + 1  # Increment count of word in that class\n",
    "            class_word_counts[c] = class_word_counts.get(c, 0) + 1  # Increment number of words in that class\n",
    "            vocab.add(word)  # Add word to the vocabulary set\n",
    "\n",
    "    # Calculate log versions of prior probabilities p(c) and posterior probabilities for each word p(w|c)\n",
    "    log_prior = {}\n",
    "    log_likelihood = {}\n",
    "    for c in classes:\n",
    "        log_prior[c] = np.log(np.sum(data['label'] == c) / n)\n",
    "        for word in vocab:\n",
    "            log_likelihood[(word, c)] = np.log(\n",
    "                (vocab_counts.get((word, c), 0) + 1) / (class_word_counts[c] + len(vocab)))\n",
    "\n",
    "    return log_prior, log_likelihood, vocab\n",
    "\n",
    "\n",
    "def test_naive_bayes(test_doc: str, log_prior: dict, log_likelihood: dict, classes: list[int], vocab: set):\n",
    "    # Initialize all scores to 0\n",
    "    score = [0] * len(classes)\n",
    "    # Loop over each class and calculate the score of this class given the test doc\n",
    "    for c_i, c in enumerate(classes):\n",
    "        score[c_i] = log_prior[c]  # Initialize score to log prior probability\n",
    "        # Add likelihood of each word in the sentence given current class (if it was in the vocabulary)\n",
    "        for word in test_doc.lower().split():\n",
    "            if word in vocab:\n",
    "                score[c_i] += log_likelihood[(word, c)]\n",
    "    # Return class with the max score\n",
    "    return classes[np.argmax(score)]"
   ],
   "outputs": [],
   "execution_count": 3
  },
  {
   "cell_type": "markdown",
   "id": "1826b850",
   "metadata": {},
   "source": "# Computing Naïve Bayes Accuracy"
  },
  {
   "cell_type": "code",
   "id": "6e5987dc",
   "metadata": {
    "ExecuteTime": {
     "end_time": "2024-10-31T18:08:39.604701Z",
     "start_time": "2024-10-31T18:08:39.235567Z"
    }
   },
   "source": [
    "log_prior, log_likelihood, vocab = train_naive_bayes(train_data)\n",
    "\n",
    "classes = train_data['label'].unique().tolist()\n",
    "\n",
    "correct_predictions = 0\n",
    "total_predictions = len(test_data)\n",
    "\n",
    "for sentence, true_label in zip(test_data['sentence'], test_data['label']):\n",
    "    predicted_label = test_naive_bayes(sentence, log_prior, log_likelihood, classes, vocab)\n",
    "    if predicted_label == true_label:\n",
    "        correct_predictions += 1\n",
    "\n",
    "accuracy = correct_predictions / total_predictions\n",
    "print(f\"Accuracy of Naive Bayes classifier: {accuracy:.12f}\")"
   ],
   "outputs": [
    {
     "name": "stdout",
     "output_type": "stream",
     "text": [
      "Accuracy of Naive Bayes classifier: 0.401357466063\n"
     ]
    }
   ],
   "execution_count": 4
  },
  {
   "cell_type": "markdown",
   "id": "7b86f2da",
   "metadata": {},
   "source": "# Computing Scikit Accuracy"
  },
  {
   "cell_type": "code",
   "id": "f87b00bd",
   "metadata": {
    "ExecuteTime": {
     "end_time": "2024-10-31T18:08:39.795030Z",
     "start_time": "2024-10-31T18:08:39.605622Z"
    }
   },
   "source": [
    "# Prepare training and test datasets (sentence and label)\n",
    "X_train, y_train = train_data['sentence'], train_data['label']\n",
    "X_test, y_test = test_data['sentence'], test_data['label']\n",
    "\n",
    "# Create a pipeline with CountVectorizer and MultinomialNB\n",
    "pipeline = Pipeline([\n",
    "    ('vectorizer', CountVectorizer()),\n",
    "    ('nb', MultinomialNB())  # Use alpha=1 for Laplace smoothing, same as in the custom model\n",
    "])\n",
    "\n",
    "# Train the pipeline on the training data\n",
    "pipeline.fit(X_train, y_train)\n",
    "\n",
    "# Make predictions on the test set\n",
    "y_pred = pipeline.predict(X_test)\n",
    "\n",
    "# Calculate accuracy\n",
    "accuracy = accuracy_score(y_test, y_pred)\n",
    "print(f\"Accuracy (scikit-learn): {accuracy:.12f}%\")"
   ],
   "outputs": [
    {
     "name": "stdout",
     "output_type": "stream",
     "text": [
      "Accuracy (scikit-learn): 0.409049773756%\n"
     ]
    }
   ],
   "execution_count": 5
  }
 ],
 "metadata": {
  "kernelspec": {
   "name": "python3",
   "language": "python",
   "display_name": "Python 3 (ipykernel)"
  }
 },
 "nbformat": 4,
 "nbformat_minor": 5
}

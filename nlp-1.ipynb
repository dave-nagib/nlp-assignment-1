{
 "cells": [
  {
   "cell_type": "markdown",
   "id": "a7280824",
   "metadata": {},
   "source": [
    "# Imports"
   ]
  },
  {
   "cell_type": "code",
   "execution_count": 1,
   "id": "32f0215d",
   "metadata": {
    "ExecuteTime": {
     "end_time": "2024-10-31T18:12:54.703477Z",
     "start_time": "2024-10-31T18:12:51.705454Z"
    }
   },
   "outputs": [
    {
     "name": "stderr",
     "output_type": "stream",
     "text": [
      "e:\\college\\level-4\\1st term\\NLP\\labs\\Assignment 1\\nlp-assignment-1\\.venv\\Lib\\site-packages\\tqdm\\auto.py:21: TqdmWarning: IProgress not found. Please update jupyter and ipywidgets. See https://ipywidgets.readthedocs.io/en/stable/user_install.html\n",
      "  from .autonotebook import tqdm as notebook_tqdm\n"
     ]
    }
   ],
   "source": [
    "import pandas as pd\n",
    "import numpy as np\n",
    "from datasets import load_dataset\n",
    "import matplotlib.pyplot as plt\n",
    "import re\n",
    "from sklearn.pipeline import Pipeline\n",
    "from sklearn.feature_extraction.text import CountVectorizer\n",
    "from sklearn.naive_bayes import MultinomialNB\n",
    "from sklearn.metrics import accuracy_score\n",
    "from sklearn.model_selection import train_test_split"
   ]
  },
  {
   "cell_type": "markdown",
   "id": "520eac4f",
   "metadata": {},
   "source": [
    "# Load The Data, Read and map the scores to their classes"
   ]
  },
  {
   "cell_type": "code",
   "execution_count": 2,
   "id": "dc876900",
   "metadata": {},
   "outputs": [],
   "source": [
    "# Load the SST dataset's training split\n",
    "train_data = load_dataset('sst', split='train', trust_remote_code=True)\n",
    "train_data = pd.DataFrame(train_data)\n",
    "\n",
    "# Load the SST dataset's validation split\n",
    "val_data = load_dataset('sst', split='validation', trust_remote_code=True)\n",
    "val_data = pd.DataFrame(val_data)\n",
    "\n",
    "# Load the SST dataset's test split\n",
    "test_data = load_dataset('sst', split='test', trust_remote_code=True)\n",
    "test_data = pd.DataFrame(test_data)\n",
    "\n",
    "# concatenate the training and validation data and the test data\n",
    "data = pd.concat([train_data, val_data, test_data])\n",
    "\n",
    "del train_data, val_data, test_data"
   ]
  },
  {
   "cell_type": "code",
   "execution_count": 3,
   "id": "875a5036",
   "metadata": {
    "ExecuteTime": {
     "end_time": "2024-10-31T18:12:56.467422Z",
     "start_time": "2024-10-31T18:12:54.703477Z"
    }
   },
   "outputs": [
    {
     "name": "stdout",
     "output_type": "stream",
     "text": [
      "Data samples after cleaning:\n",
      "                                            sentence  label  \\\n",
      "0  the rock destined the century new conan and th...      3   \n",
      "1  the gorgeously elaborate continuation the lord...      4   \n",
      "2  singercomposer bryan adams contributes slew so...      3   \n",
      "3  you think now america would have had enough pl...      2   \n",
      "4                    yet the act still charming here      3   \n",
      "\n",
      "                                              tokens  \\\n",
      "0  The|Rock|is|destined|to|be|the|21st|Century|'s...   \n",
      "1  The|gorgeously|elaborate|continuation|of|``|Th...   \n",
      "2  Singer\\/composer|Bryan|Adams|contributes|a|sle...   \n",
      "3  You|'d|think|by|now|America|would|have|had|eno...   \n",
      "4               Yet|the|act|is|still|charming|here|.   \n",
      "\n",
      "                                                tree  \n",
      "0  70|70|68|67|63|62|61|60|58|58|57|56|56|64|65|5...  \n",
      "1  71|70|69|69|67|67|66|64|63|62|62|61|61|58|57|5...  \n",
      "2  72|71|71|70|68|68|67|67|66|63|62|62|60|60|58|5...  \n",
      "3  36|35|34|33|33|32|30|29|27|26|25|24|23|23|22|2...  \n",
      "4          15|13|13|10|9|9|11|12|10|11|12|14|14|15|0  \n"
     ]
    }
   ],
   "source": [
    "def score_to_class(score):\n",
    "    if score <= 0.2:\n",
    "        return 0\n",
    "    elif score <= 0.4:\n",
    "        return 1\n",
    "    elif score <= 0.6:\n",
    "        return 2\n",
    "    elif score <= 0.8:\n",
    "        return 3\n",
    "    else:\n",
    "        return 4\n",
    "\n",
    "def clean_text(text):\n",
    "    # Remove non-alphabetic characters and lowercase the text\n",
    "    text = re.sub(r'[^a-zA-Z\\s]', '', text)\n",
    "    # Remove words with 2 or fewer characters\n",
    "    text = re.sub(r'\\b\\w{1,2}\\b', '', text)\n",
    "    # Remove consecutive spaces\n",
    "    text = re.sub(r'\\s+', ' ', text).strip()\n",
    "    return text\n",
    "\n",
    "# Apply cleaning and score mapping on each dataset\n",
    "data['sentence'] = data['sentence'].apply(lambda x: clean_text(x.lower()))\n",
    "data['label'] = data['label'].apply(lambda x: score_to_class(x))\n",
    "\n",
    "# Display cleaned samples from each data\n",
    "print(\"Data samples after cleaning:\")\n",
    "print(data.head())"
   ]
  },
  {
   "cell_type": "code",
   "execution_count": 4,
   "id": "8c78c73b",
   "metadata": {},
   "outputs": [
    {
     "data": {
      "image/png": "[encoded data removed]",
      "text/plain": [
       "<Figure size 800x600 with 1 Axes>"
      ]
     },
     "metadata": {},
     "output_type": "display_data"
    }
   ],
   "source": [
    "# Plotting the distribution of sentiment labels after mapping scores to classes\n",
    "data_label_counts = data['label'].value_counts().sort_index()\n",
    "plt.figure(figsize=(8, 6))\n",
    "plt.bar(data_label_counts.index, data_label_counts.values)\n",
    "plt.xlabel(\"Sentiment Label (0 = Very Negative, 4 = Very Positive)\")\n",
    "plt.ylabel(\"Frequency\")\n",
    "plt.title(\"Distribution of Sentiment Labels (Mapped to Classes)\")\n",
    "plt.show()"
   ]
  },
  {
   "cell_type": "code",
   "execution_count": 5,
   "id": "9df34a91",
   "metadata": {},
   "outputs": [
    {
     "name": "stdout",
     "output_type": "stream",
     "text": [
      "Training data samples:\n",
      "                                               sentence  label  \\\n",
      "2134  usually when get this much syrup like pancakes...      1   \n",
      "1053  mattei tiresomely grave and longwinded circula...      0   \n",
      "6071  goodlooking but relentlessly lowbrow outing pl...      1   \n",
      "807   fooled the impressive cast list eye see you pu...      0   \n",
      "2087             sushi for the connoisseurs the macabre      1   \n",
      "\n",
      "                                                 tokens  \\\n",
      "2134  Usually|when|I|get|this|much|syrup|,|I|like|pa...   \n",
      "1053  Mattei|is|tiresomely|grave|and|long-winded|,|a...   \n",
      "6071  Good-looking|but|relentlessly|lowbrow|outing|p...   \n",
      "807   Do|n't|be|fooled|by|the|impressive|cast|list|-...   \n",
      "2087        Sushi|for|the|connoisseurs|of|the|macabre|.   \n",
      "\n",
      "                                                   tree  \n",
      "2134  30|29|28|27|26|25|25|24|23|21|20|19|18|17|17|2...  \n",
      "1053  27|23|22|20|20|21|24|19|18|17|16|15|15|26|16|1...  \n",
      "6071  20|20|21|19|19|17|16|15|14|13|13|18|14|15|16|1...  \n",
      "807   29|29|28|27|26|25|24|23|23|31|21|21|20|19|18|1...  \n",
      "2087          13|12|11|11|10|9|9|15|10|14|12|13|14|15|0  \n",
      "\n",
      "Testing data samples:\n",
      "                                               sentence  label  \\\n",
      "502   the bodily function jokes are about what you e...      3   \n",
      "6999  deuces wild encyclopedia cliches that shoplift...      1   \n",
      "8098  entertains not much because its music comic an...      1   \n",
      "4064                         may prove tsai masterpiece      4   \n",
      "992   this terrific character study probe into the l...      4   \n",
      "\n",
      "                                                 tokens  \\\n",
      "502   The|bodily|function|jokes|are|about|what|you|'...   \n",
      "6999  Deuces|Wild|is|an|encyclopedia|of|cliches|that...   \n",
      "8098  Entertains|not|so|much|because|of|its|music|or...   \n",
      "4064          may|prove|to|be|(|Tsai|'s|)|masterpiece|.   \n",
      "992   This|is|a|terrific|character|study|,|a|probe|i...   \n",
      "\n",
      "                                                   tree  \n",
      "502   40|39|38|38|37|36|35|34|33|33|42|43|32|31|29|2...  \n",
      "6999  52|52|50|48|48|47|46|45|42|42|41|39|39|38|37|3...  \n",
      "8098  54|54|53|53|52|50|47|47|48|46|46|44|44|43|41|4...  \n",
      "4064  18|17|16|15|13|11|11|12|14|19|12|13|14|15|16|1...  \n",
      "992   33|31|28|27|26|26|29|24|24|23|21|21|20|19|18|1...  \n",
      "\n",
      "Label distribution in training data:\n",
      "label\n",
      "1    0.264880\n",
      "3    0.262443\n",
      "2    0.189052\n",
      "4    0.156247\n",
      "0    0.127378\n",
      "Name: proportion, dtype: float64\n",
      "\n",
      "Label distribution in testing data:\n",
      "label\n",
      "1    0.264755\n",
      "3    0.262226\n",
      "2    0.189713\n",
      "4    0.155987\n",
      "0    0.127319\n",
      "Name: proportion, dtype: float64\n"
     ]
    }
   ],
   "source": [
    "#divide the data into training 90% and testing 10% so that both have the same distribution of sentiment labels\n",
    "train_data, test_data = train_test_split(data, test_size=0.1, stratify=data['label'], random_state=42)\n",
    "del data\n",
    "\n",
    "# Display a few samples from the train and test sets to verify the split\n",
    "print(\"Training data samples:\")\n",
    "print(train_data.head())\n",
    "print(\"\\nTesting data samples:\")\n",
    "print(test_data.head())\n",
    "\n",
    "# Display the distribution of labels in the training and test sets to verify the stratification\n",
    "print(\"\\nLabel distribution in training data:\")\n",
    "print(train_data['label'].value_counts(normalize=True))\n",
    "print(\"\\nLabel distribution in testing data:\")\n",
    "print(test_data['label'].value_counts(normalize=True))"
   ]
  },
  {
   "cell_type": "markdown",
   "id": "071d42d9",
   "metadata": {},
   "source": [
    "# Part 1: Naïve Bayes"
   ]
  },
  {
   "cell_type": "code",
   "execution_count": 3,
   "id": "2a13e2fb",
   "metadata": {
    "ExecuteTime": {
     "end_time": "2024-10-31T18:12:56.478012Z",
     "start_time": "2024-10-31T18:12:56.467422Z"
    }
   },
   "outputs": [],
   "source": [
    "def train_naive_bayes(data: pd.DataFrame):\n",
    "    # Get the number of docs and classes of the data\n",
    "    n = len(data)\n",
    "    classes = data['label'].unique().tolist()\n",
    "\n",
    "    # Construct vocabulary, and count of each word and total word count in each class\n",
    "    vocab = set()\n",
    "    vocab_counts = {}\n",
    "    class_word_counts = {}\n",
    "    # Loop over each sentence-class pair\n",
    "    for sentence, c in zip(data['sentence'].tolist(), data['label'].tolist()):\n",
    "        for word in sentence.split():  # Loop over each word\n",
    "            vocab_counts[(word, c)] = vocab_counts.get((word, c), 0) + 1  # Increment count of word in that class\n",
    "            class_word_counts[c] = class_word_counts.get(c, 0) + 1  # Increment number of words in that class\n",
    "            vocab.add(word)  # Add word to the vocabulary set\n",
    "\n",
    "    # Calculate log versions of prior probabilities p(c) and posterior probabilities for each word p(w|c)\n",
    "    log_prior = {}\n",
    "    log_likelihood = {}\n",
    "    for c in classes:\n",
    "        log_prior[c] = np.log(np.sum(data['label'] == c) / n)\n",
    "        for word in vocab:\n",
    "            log_likelihood[(word, c)] = np.log(\n",
    "                (vocab_counts.get((word, c), 0) + 1) / (class_word_counts[c] + len(vocab)))\n",
    "\n",
    "    return log_prior, log_likelihood, vocab\n",
    "\n",
    "\n",
    "def test_naive_bayes(test_doc: str, log_prior: dict, log_likelihood: dict, classes: list[int], vocab: set):\n",
    "    # Initialize all scores to 0\n",
    "    score = [0] * len(classes)\n",
    "    # Loop over each class and calculate the score of this class given the test doc\n",
    "    for c_i, c in enumerate(classes):\n",
    "        score[c_i] = log_prior[c]  # Initialize score to log prior probability\n",
    "        # Add likelihood of each word in the sentence given current class (if it was in the vocabulary)\n",
    "        for word in test_doc.lower().split():\n",
    "            if word in vocab:\n",
    "                score[c_i] += log_likelihood[(word, c)]\n",
    "    # Return class with the max score\n",
    "    return classes[np.argmax(score)]"
   ]
  },
  {
   "cell_type": "markdown",
   "id": "1826b850",
   "metadata": {},
   "source": [
    "# Computing Naïve Bayes Accuracy"
   ]
  },
  {
   "cell_type": "code",
   "execution_count": 4,
   "id": "6e5987dc",
   "metadata": {
    "ExecuteTime": {
     "end_time": "2024-10-31T18:12:56.894312Z",
     "start_time": "2024-10-31T18:12:56.478012Z"
    }
   },
   "outputs": [
    {
     "name": "stdout",
     "output_type": "stream",
     "text": [
      "Accuracy: 0.401357466063\n"
     ]
    }
   ],
   "source": [
    "log_prior, log_likelihood, vocab = train_naive_bayes(train_data)\n",
    "\n",
    "classes = train_data['label'].unique().tolist()\n",
    "\n",
    "correct_predictions = 0\n",
    "total_predictions = len(test_data)\n",
    "\n",
    "for sentence, true_label in zip(test_data['sentence'], test_data['label']):\n",
    "    predicted_label = test_naive_bayes(sentence, log_prior, log_likelihood, classes, vocab)\n",
    "    if predicted_label == true_label:\n",
    "        correct_predictions += 1\n",
    "\n",
    "accuracy = correct_predictions / total_predictions\n",
    "print(f\"Accuracy: {accuracy:.12f}\")"
   ]
  },
  {
   "cell_type": "markdown",
   "id": "7b86f2da",
   "metadata": {},
   "source": [
    "# Computing Scikit Accuracy"
   ]
  },
  {
   "cell_type": "code",
   "execution_count": 5,
   "id": "f87b00bd",
   "metadata": {
    "ExecuteTime": {
     "end_time": "2024-10-31T18:12:57.103747Z",
     "start_time": "2024-10-31T18:12:56.896353Z"
    }
   },
   "outputs": [
    {
     "name": "stdout",
     "output_type": "stream",
     "text": [
      "Accuracy: 0.409049773756\n"
     ]
    }
   ],
   "source": [
    "# Prepare training and test datasets (sentence and label)\n",
    "X_train, y_train = train_data['sentence'], train_data['label']\n",
    "X_test, y_test = test_data['sentence'], test_data['label']\n",
    "\n",
    "# Create a pipeline with CountVectorizer and MultinomialNB\n",
    "pipeline = Pipeline([\n",
    "    ('vectorizer', CountVectorizer()),\n",
    "    ('nb', MultinomialNB())  # Use alpha=1 for Laplace smoothing, same as in the custom model\n",
    "])\n",
    "\n",
    "# Train the pipeline on the training data\n",
    "pipeline.fit(X_train, y_train)\n",
    "\n",
    "# Make predictions on the test set\n",
    "y_pred = pipeline.predict(X_test)\n",
    "\n",
    "# Calculate accuracy\n",
    "accuracy = accuracy_score(y_test, y_pred)\n",
    "print(f\"Accuracy: {accuracy:.12f}\")"
   ]
  },
  {
   "cell_type": "code",
   "execution_count": null,
   "id": "65e3acc9",
   "metadata": {},
   "outputs": [],
   "source": [
    "# Get confusion matrix with rows as actual classes and columns as predicted classes\n",
    "def get_confusion_matrix(predicted, actual):\n",
    "    classes = np.unique(actual)\n",
    "    n = len(classes)\n",
    "    confusion_matrix = np.zeros((n, n), dtype=int)\n",
    "    for a, p in zip(actual, predicted):\n",
    "        confusion_matrix[a, p] += 1\n",
    "    return confusion_matrix\n",
    "\n",
    "# Get macro-averaged precision over all classes\n",
    "def precision(confusion_matrix):\n",
    "    avg_precision = 0\n",
    "    for c in range(confusion_matrix.shape[0]):\n",
    "        tp = confusion_matrix[c, c]\n",
    "        fp = np.sum(confusion_matrix[:, c]) - tp\n",
    "        # Avoid division by zero\n",
    "        if (tp + fp) > 0:\n",
    "            avg_precision += tp / (tp + fp)\n",
    "    return avg_precision / confusion_matrix.shape[0]\n",
    "\n",
    "# Get macro-averaged recall over all classes\n",
    "def recall(confusion_matrix):\n",
    "    avg_recall = 0\n",
    "    for c in range(confusion_matrix.shape[0]):\n",
    "        tp = confusion_matrix[c, c]\n",
    "        fn = np.sum(confusion_matrix[c, :]) - tp\n",
    "        # Avoid division by zero\n",
    "        if (tp + fn) > 0:\n",
    "            avg_recall += tp / (tp + fn)\n",
    "    return avg_recall / confusion_matrix.shape[0]\n",
    "\n",
    "# Get macro-averaged F1 score over all classes\n",
    "def f1_score(confusion_matrix):\n",
    "    avg_f1 = 0\n",
    "    for c in range(confusion_matrix.shape[0]):\n",
    "        tp = confusion_matrix[c, c]\n",
    "        fp = np.sum(confusion_matrix[:, c]) - tp\n",
    "        fn = np.sum(confusion_matrix[c, :]) - tp\n",
    "        # Calculate precision and recall, avoid division by zero in F1 calculation\n",
    "        if (tp + fp) > 0:\n",
    "            precision = tp / (tp + fp)\n",
    "        else:\n",
    "            precision = 0\n",
    "        if (tp + fn) > 0:\n",
    "            recall = tp / (tp + fn)\n",
    "        else:\n",
    "            recall = 0\n",
    "        if (precision + recall) > 0:\n",
    "            avg_f1 += 2 * (precision * recall) / (precision + recall)\n",
    "    return avg_f1 / confusion_matrix.shape[0]\n"
   ]
  }
 ],
 "metadata": {
  "kernelspec": {
   "display_name": ".venv",
   "language": "python",
   "name": "python3"
  },
  "language_info": {
   "codemirror_mode": {
    "name": "ipython",
    "version": 3
   },
   "file_extension": ".py",
   "mimetype": "text/x-python",
   "name": "python",
   "nbconvert_exporter": "python",
   "pygments_lexer": "ipython3",
   "version": "3.13.0"
  }
 },
 "nbformat": 4,
 "nbformat_minor": 5
}
